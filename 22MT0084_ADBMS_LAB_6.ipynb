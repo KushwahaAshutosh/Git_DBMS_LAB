{
 "cells": [
  {
   "cell_type": "code",
   "execution_count": null,
   "id": "16234090",
   "metadata": {},
   "outputs": [],
   "source": [
    "# Name : Ashutosh Singh Kushwaha\n",
    "# Admission No : 22MT0084\n",
    "# ADBMS LAB 6"
   ]
  },
  {
   "cell_type": "code",
   "execution_count": 5,
   "id": "6fe1f204",
   "metadata": {},
   "outputs": [
    {
     "name": "stdout",
     "output_type": "stream",
     "text": [
      "<mysql.connector.connection_cext.CMySQLConnection object at 0x0000021EF7FBE770>\n"
     ]
    }
   ],
   "source": [
    "import time\n",
    "import mysql.connector as cn\n",
    "myconn = cn.connect(host = \"localhost\",user = \"root\",password = \"Kushashu123\",database = \"adbms\")\n",
    "print(myconn)"
   ]
  },
  {
   "cell_type": "code",
   "execution_count": 6,
   "id": "fe693761",
   "metadata": {},
   "outputs": [
    {
     "name": "stdout",
     "output_type": "stream",
     "text": [
      "time taken: 0.002530336380004883\n",
      "(' Wu',)\n",
      "('Einstein',)\n",
      "('Gold',)\n",
      "('Katz',)\n",
      "('Singh',)\n",
      "('Crick',)\n",
      "('Brandt',)\n",
      "('Kim',)\n",
      "time taken: 0.002530336380004883\n"
     ]
    }
   ],
   "source": [
    "## Question 1\n",
    "cursor = myconn.cursor(buffered = True)\n",
    "start = time.time()\n",
    "cursor.execute(\"select name from instructor where salary >any(select salary from instructor where dept_name = 'Biology') \") \n",
    "myresult = cursor.fetchall()\n",
    "end =time.time()\n",
    "print(\"time taken:\",end - start)\n",
    "for x in myresult:\n",
    "    print(x)\n",
    "print(\"time taken:\",end - start)"
   ]
  },
  {
   "cell_type": "code",
   "execution_count": 8,
   "id": "fd5eca46",
   "metadata": {},
   "outputs": [
    {
     "name": "stdout",
     "output_type": "stream",
     "text": [
      "(' Wu',)\n",
      "('Einstein',)\n",
      "('Gold',)\n",
      "('Katz',)\n",
      "('Singh',)\n",
      "('Brandt',)\n",
      "('Kim',)\n",
      "cursor rowcount: 7\n",
      "time taken: 0.0015180110931396484\n"
     ]
    }
   ],
   "source": [
    "## Question 2\n",
    "start = time.time()\n",
    "cursor.execute(\"select name from instructor where salary >all(select salary from instructor where dept_name = 'Biology') \") \n",
    "end = time.time()\n",
    "for x in cursor:\n",
    "    print(x)\n",
    "print(\"Tuple Count \",cursor.rowcount)\n",
    "print(\"time taken:\",end - start)"
   ]
  },
  {
   "cell_type": "code",
   "execution_count": 9,
   "id": "3c361671",
   "metadata": {},
   "outputs": [
    {
     "name": "stdout",
     "output_type": "stream",
     "text": [
      "('Comp. Sci.', Decimal('77333.3333'))\n",
      "('Biology', Decimal('69000.0000'))\n",
      "('Finance', Decimal('85000.0000'))\n",
      "('Physics', Decimal('91000.0000'))\n",
      "('History', Decimal('61000.0000'))\n",
      "('Elec. Eng.', Decimal('80000.0000'))\n",
      "Tuple Count  6\n",
      "time taken: 0.006013393402099609\n"
     ]
    }
   ],
   "source": [
    "## Question 3\n",
    "start = time.time()\n",
    "cursor.execute(\"select dept_name ,avg(salary) as 'avg_salary'  from instructor group by dept_name having avg_salary>42000  \") \n",
    "end = time.time()\n",
    "for x in cursor:\n",
    "    print(x)\n",
    "print(\"Tuple Count \",cursor.rowcount)\n",
    "print(\"time taken:\",end - start)"
   ]
  },
  {
   "cell_type": "code",
   "execution_count": 10,
   "id": "b5c34fbf",
   "metadata": {},
   "outputs": [
    {
     "name": "stdout",
     "output_type": "stream",
     "text": [
      "('Comp. Sci.', Decimal('232000'))\n",
      "('Biology', Decimal('138000'))\n",
      "('Finance', Decimal('170000'))\n",
      "('Physics', Decimal('182000'))\n",
      "Tuple Count  4\n",
      "time taken: 0.0\n"
     ]
    }
   ],
   "source": [
    "## Question 4\n",
    "start = time.time()\n",
    "cursor.execute(\"with dept_total(dept_name,value) as (Select dept_name,sum(salary) from instructor GROUP BY dept_name) ,\"\n",
    "\n",
    "               \"dept_totalAvg(value) as (Select Avg(value) from dept_total)\"\n",
    "\n",
    "               \"Select dept_name,dept_total.value from dept_total,dept_totalAvg where dept_total.value>dept_totalAvg.value;\")\n",
    "end = time.time()\n",
    "for x in cursor:\n",
    "    print(x)\n",
    "print(\"Tuple Count \",cursor.rowcount)\n",
    "print(\"time taken:\",end - start)"
   ]
  },
  {
   "cell_type": "code",
   "execution_count": 12,
   "id": "c5306792",
   "metadata": {},
   "outputs": [
    {
     "name": "stdout",
     "output_type": "stream",
     "text": [
      "9\n",
      "('Srinivasan ',)\n",
      "(' Wu',)\n",
      "('Mozart',)\n",
      "('Einstein',)\n",
      "('El Said',)\n",
      "('Katz',)\n",
      "('Crick',)\n",
      "('Brandt',)\n",
      "('Kim',)\n",
      "Tuple Count  9\n",
      "time taken :  0.0\n"
     ]
    }
   ],
   "source": [
    "## Question 5\n",
    "start = time.time()\n",
    "query = \"select distinct(name) from instructor , teaches where instructor.id = teaches.id\"\n",
    "cursor.execute(query)\n",
    "print(cursor.rowcount)\n",
    "end =  time.time()\n",
    "for x in cursor:\n",
    "    print(x)\n",
    "print(\"Tuple Count \",cursor.rowcount)\n",
    "print(\"time taken : \",end-start)"
   ]
  },
  {
   "cell_type": "code",
   "execution_count": 13,
   "id": "55bf5f2c",
   "metadata": {},
   "outputs": [
    {
     "name": "stdout",
     "output_type": "stream",
     "text": [
      "18\n",
      "('Srinivasan ', 'CS-347')\n",
      "('Srinivasan ', 'CS-315')\n",
      "('Srinivasan ', 'CS-101')\n",
      "('Smith', None)\n",
      "(' Wu', 'FIN-201')\n",
      "('Mozart', 'MU-199')\n",
      "('Einstein', 'PHY-101')\n",
      "('El Said', 'HIS-351')\n",
      "('Gold', None)\n",
      "('Katz', 'CS-319')\n",
      "('Katz', 'CS-101')\n",
      "('Califieri', None)\n",
      "('Singh', None)\n",
      "('Crick', 'BIO-301')\n",
      "('Crick', 'BIO-101')\n",
      "('Brandt', 'CS-319')\n",
      "('Brandt', 'CS-190')\n",
      "('Kim', 'EE-181')\n",
      "Tuple Count  18\n",
      "time taken :  0.0026497840881347656\n"
     ]
    }
   ],
   "source": [
    "## Question 6\n",
    "start = time.time()\n",
    "query = \"select distinct(a.name) as Name,b.course_id as course from  instructor a left join teaches b on a.id = b.id\"\n",
    "cursor.execute(query)\n",
    "print(cursor.rowcount)\n",
    "end =  time.time()\n",
    "for x in cursor:\n",
    "    print(x)\n",
    "print(\"Tuple Count \",cursor.rowcount)\n",
    "print(\"time taken : \",end-start)"
   ]
  },
  {
   "cell_type": "code",
   "execution_count": null,
   "id": "436175e0",
   "metadata": {},
   "outputs": [],
   "source": [
    "## Question 7\n",
    "query = \"create view faculty as select id ,name ,dept_name from instructor\"\n",
    "cursor.execute(query)\n",
    "print(cursor.rowcount)\n",
    "for x in cursor:\n",
    "    print(x)"
   ]
  },
  {
   "cell_type": "code",
   "execution_count": 14,
   "id": "2879f0a2",
   "metadata": {},
   "outputs": [
    {
     "name": "stdout",
     "output_type": "stream",
     "text": [
      "13\n",
      "(10101, 'Srinivasan ', 'Comp. Sci.')\n",
      "(10211, 'Smith', 'Biology')\n",
      "(12121, ' Wu', 'Finance')\n",
      "(15151, 'Mozart', 'Music')\n",
      "(22222, 'Einstein', 'Physics')\n",
      "(32343, 'El Said', 'History')\n",
      "(33456, 'Gold', 'Physics')\n",
      "(45565, 'Katz', 'Comp. Sci.')\n",
      "(58583, 'Califieri', 'History')\n",
      "(76543, 'Singh', 'Finance')\n",
      "(76766, 'Crick', 'Biology')\n",
      "(83821, 'Brandt', 'Comp. Sci.')\n",
      "(98345, 'Kim', 'Elec. Eng.')\n",
      "time taken :  0.0015377998352050781\n"
     ]
    }
   ],
   "source": [
    "start = time.time()\n",
    "query = \"select * from faculty\"\n",
    "cursor.execute(query)\n",
    "print(cursor.rowcount)\n",
    "end =  time.time()\n",
    "for x in cursor:\n",
    "    print(x)\n",
    "print(\"time taken : \",end-start)"
   ]
  },
  {
   "cell_type": "code",
   "execution_count": null,
   "id": "a6e7e7a2",
   "metadata": {},
   "outputs": [],
   "source": [
    "## Question 8\n",
    "query = \"create view dp as select dept_name , avg(salary) from instructor group by dept_name\"\n",
    "cursor.execute(query)"
   ]
  },
  {
   "cell_type": "code",
   "execution_count": 15,
   "id": "4a3c1725",
   "metadata": {},
   "outputs": [
    {
     "name": "stdout",
     "output_type": "stream",
     "text": [
      "7\n",
      "('Comp. Sci.', Decimal('77333.3333'))\n",
      "('Biology', Decimal('69000.0000'))\n",
      "('Finance', Decimal('85000.0000'))\n",
      "('Music', Decimal('40000.0000'))\n",
      "('Physics', Decimal('91000.0000'))\n",
      "('History', Decimal('61000.0000'))\n",
      "('Elec. Eng.', Decimal('80000.0000'))\n",
      "time taken :  0.006888151168823242\n"
     ]
    }
   ],
   "source": [
    "start = time.time()\n",
    "query = \"select * from dp\"\n",
    "cursor.execute(query)\n",
    "print(cursor.rowcount)\n",
    "end =  time.time()\n",
    "for x in cursor:\n",
    "    print(x)\n",
    "print(\"time taken : \",end-start)"
   ]
  },
  {
   "cell_type": "code",
   "execution_count": null,
   "id": "1872b0b6",
   "metadata": {},
   "outputs": [],
   "source": [
    "## Question 9\n",
    "query = \"create role 'student_role'\"\n",
    "cursor.execute(query)"
   ]
  },
  {
   "cell_type": "code",
   "execution_count": null,
   "id": "e7992615",
   "metadata": {},
   "outputs": [],
   "source": [
    "## Question 10\n",
    "query = \"grant select on adbms.faculty to 'student_role'\"\n",
    "cursor.execute(query)"
   ]
  },
  {
   "cell_type": "code",
   "execution_count": 37,
   "id": "b0abb216",
   "metadata": {},
   "outputs": [
    {
     "name": "stdout",
     "output_type": "stream",
     "text": [
      "       ID        name   dept_name   salary\n",
      "0   10101  Srinivasan  Comp. Sci.  65000.0\n",
      "1   10212         Tom     Biology      NaN\n",
      "2   15151      Mozart       Music  40000.0\n",
      "3   22222    Einstein     Physics  95000.0\n",
      "4   32343     El Said     History  60000.0\n",
      "5   33456        Gold     Physics  87000.0\n",
      "6   45565        Katz  Comp. Sci.  75000.0\n",
      "7   58583   Califieri     History  62000.0\n",
      "8   76543       Singh     Finance  80000.0\n",
      "9   76766       Crick     Biology  72000.0\n",
      "10  83821      Brandt  Comp. Sci.  92000.0\n",
      "11  98345         Kim  Elec. Eng.  80000.0\n"
     ]
    }
   ],
   "source": [
    "import pandas as pd\n",
    "cursor.execute(\"select * from instructor\")\n",
    "records=cursor.fetchall()\n",
    "instructor_dataframe=pd.DataFrame(records)\n",
    "instructor_dataframe.rename(columns={0:'ID',1:'name',2:'dept_name',3:'salary'},inplace = True)\n",
    "print(instructor_dataframe)"
   ]
  },
  {
   "cell_type": "code",
   "execution_count": 55,
   "id": "7b019766",
   "metadata": {},
   "outputs": [
    {
     "name": "stdout",
     "output_type": "stream",
     "text": [
      "       ID Course_id  sec_id semester  year\n",
      "0   10101    CS-101       1     Fall  2017\n",
      "1   10101    CS-315       1   Spring  2018\n",
      "2   10101    CS-347       1     Fall  2017\n",
      "3   12121   FIN-201       1   Spring  2018\n",
      "4   15151    MU-199       1   Spring  2018\n",
      "5   32343   HIS-351       1   Spring  2018\n",
      "6   45565    CS-101       1   Spring  2018\n",
      "7   45565    CS-319       1   Spring  2018\n",
      "8   76766   BIO-101       1   Summer  2017\n",
      "9   76766   BIO-301       1   Summer  2018\n",
      "10  83821    CS-190       1   Spring  2017\n",
      "11  83821    CS-190       2   Spring  2017\n",
      "12  83821    CS-319       2   Spring  2018\n",
      "13  98345    EE-181       1   Spring  2017\n",
      "14  22222   PHY-101       1     Fall  2017\n"
     ]
    }
   ],
   "source": [
    "cursor.execute(\"select * from teaches\")\n",
    "records = cursor.fetchall()\n",
    "teaches_dataframe = pd.DataFrame(records)\n",
    "teaches_dataframe.rename(columns={0:'ID',1:'Course_id',2:'sec_id',3:'semester',4:'year'},inplace = True)\n",
    "print(teaches_dataframe)\n"
   ]
  },
  {
   "cell_type": "code",
   "execution_count": 39,
   "id": "5f137a57",
   "metadata": {},
   "outputs": [],
   "source": [
    "from pandasql import sqldf\n",
    "import pandas as pd"
   ]
  },
  {
   "cell_type": "code",
   "execution_count": 41,
   "id": "b8a7eaab",
   "metadata": {},
   "outputs": [
    {
     "name": "stdout",
     "output_type": "stream",
     "text": [
      "       name\n",
      "0  Einstein\n",
      "1      Gold\n",
      "2      Katz\n",
      "3     Singh\n",
      "4    Brandt\n",
      "5       Kim\n",
      "time taken: 0.037236928939819336\n"
     ]
    }
   ],
   "source": [
    "## Question 1\n",
    "start = time.time()\n",
    "alls = sqldf(\"select distinct T.name from instructor_dataframe as T, instructor_dataframe as S \"\n",
    "             \" where T.salary > S.salary and S.dept_name = 'Biology'\")\n",
    "end = time.time()\n",
    "print(alls)\n",
    "print(\"time taken:\",end - start)\n"
   ]
  },
  {
   "cell_type": "code",
   "execution_count": 50,
   "id": "8a40577d",
   "metadata": {},
   "outputs": [
    {
     "name": "stdout",
     "output_type": "stream",
     "text": [
      "         name\n",
      "0   Califieri\n",
      "1     El Said\n",
      "2      Mozart\n",
      "3  Srinivasan\n",
      "4         Tom\n",
      "time taken: 0.027740001678466797\n"
     ]
    }
   ],
   "source": [
    "## Question 2 \n",
    "start = time.time()\n",
    "alls = sqldf(\"select distinct name from instructor_dataframe except \"\n",
    "             \"select distinct T.name from instructor_dataframe as T, instructor_dataframe as S \"\n",
    "             \" where T.salary >= S.salary and S.dept_name = 'Biology'\")\n",
    "end = time.time()\n",
    "print(alls)\n",
    "print(\"time taken:\",end - start)"
   ]
  },
  {
   "cell_type": "code",
   "execution_count": 42,
   "id": "05aab7fc",
   "metadata": {},
   "outputs": [
    {
     "name": "stdout",
     "output_type": "stream",
     "text": [
      "    dept_name    avg_salary\n",
      "0     Biology  72000.000000\n",
      "1  Comp. Sci.  77333.333333\n",
      "2  Elec. Eng.  80000.000000\n",
      "3     Finance  80000.000000\n",
      "4     History  61000.000000\n",
      "5     Physics  91000.000000\n",
      "time taken: 0.038294315338134766\n"
     ]
    }
   ],
   "source": [
    "## Question 3\n",
    "start = time.time()\n",
    "alls = sqldf(\"select dept_name ,avg(salary) as 'avg_salary'  from instructor_dataframe \"\n",
    "             \" group by dept_name having avg_salary>42000  \") \n",
    "end = time.time()\n",
    "print(alls)\n",
    "print(\"time taken:\",end - start)"
   ]
  },
  {
   "cell_type": "code",
   "execution_count": 69,
   "id": "3a275ef0",
   "metadata": {},
   "outputs": [
    {
     "name": "stdout",
     "output_type": "stream",
     "text": [
      "    dept_name     value\n",
      "0  Comp. Sci.  232000.0\n",
      "1     History  122000.0\n",
      "2     Physics  182000.0\n",
      "time taken: 0.04084038734436035\n"
     ]
    }
   ],
   "source": [
    "## Question 4\n",
    "start = time.time()\n",
    "alls =sqldf(\"with dept_total(dept_name,value) as (Select dept_name,sum(salary) from instructor_dataframe GROUP BY dept_name) ,\"\n",
    "\n",
    "               \"dept_totalAvg(value) as (Select Avg(value) from dept_total)\"\n",
    "\n",
    "               \"Select dept_name,dept_total.value from dept_total,dept_totalAvg where dept_total.value>dept_totalAvg.value;\")\n",
    "\n",
    " \n",
    "end = time.time()\n",
    "print(alls)\n",
    "print(\"time taken:\",end - start)"
   ]
  },
  {
   "cell_type": "code",
   "execution_count": 57,
   "id": "4485bf20",
   "metadata": {},
   "outputs": [
    {
     "name": "stdout",
     "output_type": "stream",
     "text": [
      "   Course_id        name\n",
      "0     CS-101  Srinivasan\n",
      "1     CS-315  Srinivasan\n",
      "2     CS-347  Srinivasan\n",
      "3     MU-199      Mozart\n",
      "4    PHY-101    Einstein\n",
      "5    HIS-351     El Said\n",
      "6     CS-101        Katz\n",
      "7     CS-319        Katz\n",
      "8    BIO-101       Crick\n",
      "9    BIO-301       Crick\n",
      "10    CS-190      Brandt\n",
      "11    CS-319      Brandt\n",
      "12    EE-181         Kim\n",
      "time taken: 0.1014547348022461\n"
     ]
    }
   ],
   "source": [
    "## Question 5\n",
    "start = time.time()\n",
    "alls =sqldf(\" select distinct( teaches_dataframe.Course_id ) , name from instructor_dataframe , teaches_dataframe \"\n",
    "            \" where instructor_dataframe.ID = teaches_dataframe.ID\")\n",
    "\n",
    "end = time.time()\n",
    "print(alls)\n",
    "print(\"time taken:\",end - start)"
   ]
  },
  {
   "cell_type": "code",
   "execution_count": 59,
   "id": "0b3d97d9",
   "metadata": {
    "scrolled": true
   },
   "outputs": [
    {
     "name": "stdout",
     "output_type": "stream",
     "text": [
      "   Course_id        name\n",
      "0     CS-101  Srinivasan\n",
      "1     CS-315  Srinivasan\n",
      "2     CS-347  Srinivasan\n",
      "3       None         Tom\n",
      "4     MU-199      Mozart\n",
      "5    PHY-101    Einstein\n",
      "6    HIS-351     El Said\n",
      "7       None        Gold\n",
      "8     CS-101        Katz\n",
      "9     CS-319        Katz\n",
      "10      None   Califieri\n",
      "11      None       Singh\n",
      "12   BIO-101       Crick\n",
      "13   BIO-301       Crick\n",
      "14    CS-190      Brandt\n",
      "15    CS-319      Brandt\n",
      "16    EE-181         Kim\n",
      "time taken: 0.036991119384765625\n"
     ]
    }
   ],
   "source": [
    "## Question 6\n",
    "start = time.time()\n",
    "alls =sqldf(\" select distinct(Course_id ) , name from instructor_dataframe left join teaches_dataframe \"\n",
    "            \" on instructor_dataframe.ID = teaches_dataframe.ID\")\n",
    "\n",
    "end = time.time()\n",
    "print(alls)\n",
    "print(\"time taken:\",end - start)"
   ]
  },
  {
   "cell_type": "code",
   "execution_count": 62,
   "id": "80c68f4d",
   "metadata": {},
   "outputs": [
    {
     "name": "stdout",
     "output_type": "stream",
     "text": [
      "None\n",
      "time taken: 0.03489828109741211\n"
     ]
    }
   ],
   "source": [
    "## Question 7 \n",
    "start = time.time()\n",
    "alls =sqldf(\" create view facalty as select ID ,name,dept_name from instructor_dataframe\")\n",
    "end = time.time()\n",
    "print(alls)\n",
    "print(\"time taken:\",end - start)"
   ]
  },
  {
   "cell_type": "code",
   "execution_count": 63,
   "id": "2482a341",
   "metadata": {},
   "outputs": [
    {
     "name": "stdout",
     "output_type": "stream",
     "text": [
      "None\n",
      "time taken: 0.03562784194946289\n"
     ]
    }
   ],
   "source": [
    "## Question 8\n",
    "start = time.time()\n",
    "alls =sqldf(\"create view dept_total_salary as select dept_name ,sum(salary) as 'Total' from instructor_dataframe\"\n",
    "            \" group by dept_name ;\")\n",
    "\n",
    "end = time.time()\n",
    "print(alls)\n",
    "print(\"time taken:\",end - start)"
   ]
  },
  {
   "cell_type": "code",
   "execution_count": 68,
   "id": "fe97f173",
   "metadata": {},
   "outputs": [
    {
     "name": "stdout",
     "output_type": "stream",
     "text": [
      "None\n",
      "time taken: 0.0323023796081543\n"
     ]
    }
   ],
   "source": [
    "## Question 9\n",
    "start = time.time()\n",
    "alls =sqldf(\"create role student\")\n",
    "end = time.time()\n",
    "print(alls)\n",
    "print(\"time taken:\",end - start)"
   ]
  },
  {
   "cell_type": "code",
   "execution_count": 67,
   "id": "72690d0e",
   "metadata": {},
   "outputs": [
    {
     "name": "stdout",
     "output_type": "stream",
     "text": [
      "None\n",
      "time taken: 0.022798538208007812\n"
     ]
    }
   ],
   "source": [
    "## Question 10\n",
    "start = time.time()\n",
    "alls =sqldf(\"grant select on faculty to student\")\n",
    "end = time.time()\n",
    "print(alls)\n",
    "print(\"time taken:\",end - start)"
   ]
  }
 ],
 "metadata": {
  "kernelspec": {
   "display_name": "Python 3 (ipykernel)",
   "language": "python",
   "name": "python3"
  },
  "language_info": {
   "codemirror_mode": {
    "name": "ipython",
    "version": 3
   },
   "file_extension": ".py",
   "mimetype": "text/x-python",
   "name": "python",
   "nbconvert_exporter": "python",
   "pygments_lexer": "ipython3",
   "version": "3.10.4"
  }
 },
 "nbformat": 4,
 "nbformat_minor": 5
}
