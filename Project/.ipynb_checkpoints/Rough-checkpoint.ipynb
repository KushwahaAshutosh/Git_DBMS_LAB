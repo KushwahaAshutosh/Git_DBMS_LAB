{
 "cells": [
  {
   "cell_type": "code",
   "execution_count": null,
   "id": "74538a81",
   "metadata": {},
   "outputs": [],
   "source": [
    "import mysql.connector as sc"
   ]
  },
  {
   "cell_type": "code",
   "execution_count": null,
   "id": "64f6a2cd",
   "metadata": {},
   "outputs": [],
   "source": [
    "myconn = sc.connect( \n",
    "    database = \"adbms\",\n",
    "    host = \"localhost\",\n",
    "    password = \"Kushashu123\",\n",
    "    user = \"root\"\n",
    ")\n",
    "print(myconn)"
   ]
  },
  {
   "cell_type": "code",
   "execution_count": null,
   "id": "fad0bafe",
   "metadata": {},
   "outputs": [],
   "source": [
    "cursor = myconn.cursor(buffered = True)"
   ]
  },
  {
   "cell_type": "code",
   "execution_count": 4,
   "id": "4a170442",
   "metadata": {},
   "outputs": [],
   "source": [
    "### Table Required\n",
    "## Movie ## MOVIE : ID,NAME ,TIME(min),GENRE, rating(Out of 5)\n",
    "## Ticket \n",
    "## Theater ## Theater :ID, NAME , capacity ,filled,\n",
    "## city "
   ]
  },
  {
   "cell_type": "code",
   "execution_count": 5,
   "id": "cd674ee2",
   "metadata": {},
   "outputs": [
    {
     "name": "stdout",
     "output_type": "stream",
     "text": [
      "('city',)\n",
      "('department_salary_total',)\n",
      "('dept_avg',)\n",
      "('dp',)\n",
      "('faculty',)\n",
      "('instructor',)\n",
      "('movie',)\n",
      "('teaches',)\n",
      "('teaches2',)\n",
      "('theater',)\n",
      "('user_detail',)\n",
      "('user_view',)\n"
     ]
    }
   ],
   "source": [
    "query = \"show tables\"\n",
    "cursor.execute(query)\n",
    "for x in cursor:\n",
    "    print(x)"
   ]
  },
  {
   "cell_type": "code",
   "execution_count": null,
   "id": "db47f823",
   "metadata": {},
   "outputs": [],
   "source": [
    "query = \"drop table theater\"\n",
    "cursor.execute(query)"
   ]
  },
  {
   "cell_type": "code",
   "execution_count": null,
   "id": "22475360",
   "metadata": {},
   "outputs": [],
   "source": [
    "## Booking\n",
    "query = \"\"\" create table booking (\n",
    "booking_id Integer primary key,\n",
    "movie_id Integer,\n",
    "theater_id Integer,\n",
    ")\"\"\""
   ]
  },
  {
   "cell_type": "code",
   "execution_count": null,
   "id": "acc5609c",
   "metadata": {},
   "outputs": [],
   "source": [
    "\n",
    "theater_id Integer primary key,\n",
    "Name varchar(40) not null,\n",
    "capacity Integer not null,\n",
    "filled Integer not null,\n",
    "screen Integer,\n"
   ]
  },
  {
   "cell_type": "code",
   "execution_count": null,
   "id": "884da5bf",
   "metadata": {},
   "outputs": [],
   "source": []
  },
  {
   "cell_type": "code",
   "execution_count": null,
   "id": "d25cbd92",
   "metadata": {},
   "outputs": [],
   "source": []
  },
  {
   "cell_type": "code",
   "execution_count": null,
   "id": "d28a98d3",
   "metadata": {},
   "outputs": [],
   "source": []
  },
  {
   "cell_type": "code",
   "execution_count": null,
   "id": "4d438951",
   "metadata": {},
   "outputs": [],
   "source": []
  },
  {
   "cell_type": "code",
   "execution_count": null,
   "id": "f2000ef8",
   "metadata": {},
   "outputs": [],
   "source": []
  },
  {
   "cell_type": "code",
   "execution_count": null,
   "id": "4754526d",
   "metadata": {},
   "outputs": [],
   "source": []
  },
  {
   "cell_type": "code",
   "execution_count": null,
   "id": "67223be5",
   "metadata": {},
   "outputs": [],
   "source": []
  },
  {
   "cell_type": "code",
   "execution_count": null,
   "id": "b4c3a0dd",
   "metadata": {},
   "outputs": [],
   "source": []
  },
  {
   "cell_type": "code",
   "execution_count": null,
   "id": "cbe10c7b",
   "metadata": {},
   "outputs": [],
   "source": []
  },
  {
   "cell_type": "code",
   "execution_count": null,
   "id": "15819701",
   "metadata": {},
   "outputs": [],
   "source": []
  },
  {
   "cell_type": "code",
   "execution_count": null,
   "id": "b3e51be8",
   "metadata": {},
   "outputs": [],
   "source": [
    "query = \"\"\"create table theater(\n",
    "theater_id Integer primary key,\n",
    "Name varchar(40) not null,\n",
    "capacity Integer not null,\n",
    "filled Integer not null,\n",
    "pincode Integer,\n",
    "screen Integer,\n",
    "foreign key(pincode) references city(pincode),\n",
    "check (filled>-1 and capacity>0))\"\"\"\n",
    "cursor.execute(query)"
   ]
  },
  {
   "cell_type": "code",
   "execution_count": null,
   "id": "48d2d485",
   "metadata": {},
   "outputs": [],
   "source": [
    "import sqlite3\n",
    "\n",
    "class Movie:\n",
    "    def __init__(self, movie_id, movie_name, movie_rating, movie_duration):\n",
    "        self.movie_id = movie_id\n",
    "        self.movie_name = movie_name\n",
    "        self.movie_rating = movie_rating\n",
    "        self.movie_duration = movie_duration\n",
    "\n",
    "class Theater:\n",
    "    def __init__(self, theater_id, theater_name, city):\n",
    "        self.theater_id = theater_id\n",
    "        self.theater_name = theater_name\n",
    "        self.city = city\n",
    "\n",
    "class Screen:\n",
    "    def __init__(self, screen_id, screen_name, theater_id):\n",
    "        self.screen_id = screen_id\n",
    "        self.screen_name = screen_name\n",
    "        self.theater_id = theater_id\n",
    "\n",
    "class BookingSystem:\n",
    "    def __init__(self):\n",
    "        self.conn = sqlite3.connect('movie_database.db')\n",
    "        self.cur = self.conn.cursor()\n",
    "        self.cur.execute('''CREATE TABLE IF NOT EXISTS movies\n",
    "                            (movie_id INTEGER PRIMARY KEY,\n",
    "                             movie_name TEXT,\n",
    "                             movie_rating TEXT,\n",
    "                             movie_duration INTEGER)''')\n",
    "        self.cur.execute('''CREATE TABLE IF NOT EXISTS theaters\n",
    "                            (theater_id INTEGER PRIMARY KEY,\n",
    "                             theater_name TEXT,\n",
    "                             city TEXT)''')\n",
    "        self.cur.execute('''CREATE TABLE IF NOT EXISTS screens\n",
    "                            (screen_id INTEGER PRIMARY KEY,\n",
    "                             screen_name TEXT,\n",
    "                             theater_id INTEGER,\n",
    "                             FOREIGN KEY (theater_id) REFERENCES theaters(theater_id))''')\n",
    "        self.cur.execute('''CREATE TABLE IF NOT EXISTS bookings\n",
    "                            (booking_id INTEGER PRIMARY KEY,\n",
    "                             screen_id INTEGER,\n",
    "                             movie_id INTEGER,\n",
    "                             FOREIGN KEY (screen_id) REFERENCES screens(screen_id),\n",
    "                             FOREIGN KEY (movie_id) REFERENCES movies(movie_id))''')\n",
    "\n",
    "    def add_movie(self, movie):\n",
    "        self.cur.execute(\"INSERT INTO movies VALUES (?, ?, ?, ?)\", (movie.movie_id, movie.movie_name, movie.movie_rating, movie.movie_duration))\n",
    "        self.conn.commit()\n",
    "\n",
    "    def add_theater(self, theater):\n",
    "        self.cur.execute(\"INSERT INTO theaters VALUES (?, ?, ?)\", (theater.theater_id, theater.theater_name, theater.city))\n",
    "        self.conn.commit()\n",
    "\n",
    "    def add_screen(self, screen):\n",
    "        self.cur.execute(\"INSERT INTO screens VALUES (?, ?, ?)\", (screen.screen_id, screen.screen_name, screen.theater_id))\n",
    "        self.conn.commit()\n",
    "\n",
    "    def book_ticket(self, screen_id, movie_id):\n",
    "        self.cur.execute(\"INSERT INTO bookings (screen_id, movie_id) VALUES (?, ?)\", (screen_id, movie_id))\n",
    "        self.conn.commit()\n",
    "\n",
    "    def get_movies(self):\n",
    "        self.cur.execute(\"SELECT * FROM movies\")\n",
    "        return self.cur.fetchall()\n",
    "\n",
    "    def get_theaters(self):\n",
    "        self.cur.execute(\"SELECT * FROM theaters\")\n",
    "        return self.cur.fetchall()\n",
    "\n",
    "    def get_screens(self):\n",
    "        self.cur.execute(\"SELECT * FROM screens\")\n",
    "        return self.cur.fetchall()\n",
    "\n",
    "    def get_bookings(self):\n",
    "        self.cur.execute(\"SELECT * FROM bookings\")\n",
    "        return self.cur.fetchall()\n",
    "\n",
    "    def close_connection(self):\n",
    "        self.conn.close()\n",
    "\n",
    "booking_system = BookingSystem()\n",
    "\n",
    "# adding movies to the system\n",
    "movie1 = Movie(1, \"Avengers: Endgame\", \"PG-13\", 181)\n",
    "movie2 = Movie(2, \"The Dark Knight\", \"PG-13\", 152)\n",
    "booking_system.add_movie(movie1)\n",
    "booking_system.add_movie(movie2)\n",
    "\n",
    "# adding theaters to the system\n",
    "theater1 = Theater(1, \"AMC Loews Lincoln Square 13\", \"New York\")\n",
    "theater2 = Theater(2, \"Regal Union Square ScreenX & 4DX\", \"New York\")\n"
   ]
  },
  {
   "cell_type": "code",
   "execution_count": null,
   "id": "c9784fd5",
   "metadata": {},
   "outputs": [],
   "source": []
  },
  {
   "cell_type": "code",
   "execution_count": null,
   "id": "87c4e143",
   "metadata": {},
   "outputs": [],
   "source": []
  },
  {
   "cell_type": "code",
   "execution_count": null,
   "id": "b1aeb814",
   "metadata": {},
   "outputs": [],
   "source": []
  },
  {
   "cell_type": "code",
   "execution_count": null,
   "id": "fa0b388d",
   "metadata": {},
   "outputs": [],
   "source": []
  },
  {
   "cell_type": "code",
   "execution_count": null,
   "id": "06c0a3f5",
   "metadata": {},
   "outputs": [],
   "source": []
  },
  {
   "cell_type": "code",
   "execution_count": null,
   "id": "3b6f757b",
   "metadata": {},
   "outputs": [],
   "source": []
  },
  {
   "cell_type": "code",
   "execution_count": null,
   "id": "55883050",
   "metadata": {},
   "outputs": [],
   "source": []
  }
 ],
 "metadata": {
  "kernelspec": {
   "display_name": "Python 3 (ipykernel)",
   "language": "python",
   "name": "python3"
  },
  "language_info": {
   "codemirror_mode": {
    "name": "ipython",
    "version": 3
   },
   "file_extension": ".py",
   "mimetype": "text/x-python",
   "name": "python",
   "nbconvert_exporter": "python",
   "pygments_lexer": "ipython3",
   "version": "3.10.4"
  }
 },
 "nbformat": 4,
 "nbformat_minor": 5
}
