{
 "cells": [
  {
   "cell_type": "code",
   "execution_count": 80,
   "id": "7dab1193",
   "metadata": {},
   "outputs": [],
   "source": [
    "import mysql.connector as sc"
   ]
  },
  {
   "cell_type": "code",
   "execution_count": 81,
   "id": "5a684f0f",
   "metadata": {},
   "outputs": [
    {
     "name": "stdout",
     "output_type": "stream",
     "text": [
      "<mysql.connector.connection_cext.CMySQLConnection object at 0x0000016AF5563B20>\n"
     ]
    }
   ],
   "source": [
    "myconn = sc.connect( \n",
    "    database = \"adbms\",\n",
    "    host = \"localhost\",\n",
    "    password = \"Kushashu123\",\n",
    "    user = \"root\"\n",
    ")\n",
    "print(myconn)"
   ]
  },
  {
   "cell_type": "code",
   "execution_count": 82,
   "id": "8cfc9c8b",
   "metadata": {},
   "outputs": [],
   "source": [
    "cursor = myconn.cursor(buffered = True)"
   ]
  },
  {
   "cell_type": "code",
   "execution_count": 5,
   "id": "9731d319",
   "metadata": {},
   "outputs": [],
   "source": [
    "## MOVIE\n",
    "query = \"\"\"create table movie (\n",
    "movie_id Integer primary key,\n",
    "Name varchar(40) not null,\n",
    "Genre varchar(40) not null,\n",
    "duration Integer not null,\n",
    "check ((duration between 15 and 200)) )\"\"\"\n",
    "cursor.execute(query)"
   ]
  },
  {
   "cell_type": "code",
   "execution_count": 38,
   "id": "4a486915",
   "metadata": {},
   "outputs": [],
   "source": [
    "## Theater\n",
    "query = \"\"\"create table theater(\n",
    "theater_id Integer primary key,\n",
    "Name varchar(40) not null,\n",
    "capacity Integer not null,\n",
    "filled Integer not null,\n",
    "pincode Integer,\n",
    "screen Integer,\n",
    "foreign key(pincode) references city(pincode),\n",
    "check (filled>-1 and capacity>0))\"\"\"\n",
    "cursor.execute(query)"
   ]
  },
  {
   "cell_type": "code",
   "execution_count": 23,
   "id": "30c4bc34",
   "metadata": {},
   "outputs": [],
   "source": [
    "## City \n",
    "query = \"\"\"create table city(\n",
    "pincode integer primary key,\n",
    "Name varchar(30) not null)\"\"\"\n",
    "cursor.execute(query)"
   ]
  },
  {
   "cell_type": "code",
   "execution_count": 40,
   "id": "177b7989",
   "metadata": {},
   "outputs": [],
   "source": [
    "## Current Running Shows\n",
    "query = \"\"\"create table shows(\n",
    "movie_id integer,\n",
    "theater_id integer,\n",
    "screen integer,\n",
    "foreign key(movie_id) references movie(movie_id),\n",
    "foreign key(theater_id) references theater(theater_id)\n",
    ")\"\"\"\n",
    "cursor.execute(query)"
   ]
  },
  {
   "cell_type": "code",
   "execution_count": 67,
   "id": "286aaea1",
   "metadata": {},
   "outputs": [],
   "source": [
    "## booking\n",
    "query = \"\"\"create table booking(\n",
    "user_id integer primary key,\n",
    "user_name varchar(30),\n",
    "movie_name varchar(30),\n",
    "theater_name varchar(30),\n",
    "screen integer,\n",
    "city varchar(30),\n",
    "seat_no integer\n",
    ")\"\"\"\n",
    "cursor.execute(query)"
   ]
  },
  {
   "cell_type": "code",
   "execution_count": 18,
   "id": "222a8a7a",
   "metadata": {},
   "outputs": [],
   "source": [
    "### inserting  Movie\n",
    "query = \"\"\"insert into movie values(%s,%s,%s,%s)\"\"\"\n",
    "cursor.execute(query,(1,\"Bhool Bhulaiya\",\"comedy\",154))\n",
    "cursor.execute(query,(2,\"Bhool Bhulaiya 2\",\"comedy\",130))\n",
    "cursor.execute(query,(3,\"pathaan\",\"action\",146))\n",
    "cursor.execute(query,(4,\"Drishayam\",\"thriller\",130))"
   ]
  },
  {
   "cell_type": "code",
   "execution_count": 83,
   "id": "bcac533b",
   "metadata": {},
   "outputs": [
    {
     "name": "stdout",
     "output_type": "stream",
     "text": [
      "7\n",
      "(1, 'Carnival', 120, 0, 208007, 1)\n",
      "(2, 'Carnival', 120, 0, 208007, 2)\n",
      "(3, 'PVR', 120, 0, 208007, 1)\n",
      "(4, 'PVR', 120, 0, 208007, 2)\n",
      "(5, 'PVR', 120, 0, 208007, 3)\n",
      "(6, 'INOX', 120, 0, 826004, 1)\n",
      "(7, 'INOX', 120, 0, 826004, 2)\n"
     ]
    }
   ],
   "source": [
    "query = \"\"\"select * from theater\"\"\"\n",
    "cursor.execute(query)\n",
    "print(cursor.rowcount)\n",
    "for x in cursor:\n",
    "    print(x)"
   ]
  },
  {
   "cell_type": "code",
   "execution_count": 13,
   "id": "fa1664c7",
   "metadata": {},
   "outputs": [],
   "source": [
    "## Adding theaters\n",
    "query = \"\"\"insert into theater values(%s,%s,%s,%s,%s,%s)\"\"\"\n",
    "cursor.execute(query,(6,\"INOX\",120,0,826004,1))\n",
    "cursor.execute(query,(7,\"INOX\",120,0,826004,2))"
   ]
  },
  {
   "cell_type": "code",
   "execution_count": 20,
   "id": "366bf186",
   "metadata": {},
   "outputs": [],
   "source": [
    "## Creating show \n",
    "query = \"\"\"insert into shows values(%s,%s,%s)\"\"\"\n",
    "cursor.execute(query ,(1,1,1))\n",
    "cursor.execute(query ,(2,2,2))\n",
    "cursor.execute(query ,(1,3,1))\n",
    "cursor.execute(query ,(1,4,2))\n",
    "cursor.execute(query ,(2,5,3))"
   ]
  },
  {
   "cell_type": "code",
   "execution_count": 84,
   "id": "9cfa1a95",
   "metadata": {},
   "outputs": [],
   "source": [
    "###  Creating Current Show View \n",
    "def show_available():\n",
    "    print(\"||    Movie    || Duration || Theater Name || City || Total Seats || Available || Screen No\")\n",
    "    query = \"\"\"select m.name,m.duration,t.name,c.name,t.capacity,(t.capacity-t.filled),t.screen\n",
    "    from movie m,theater t ,shows s ,city c where s.movie_id = m.movie_id \n",
    "    and t.theater_id = s.theater_id and t.pincode = c.pincode and s.screen=t.screen and\n",
    "    (t.capacity-t.filled)>0\"\"\"\n",
    "    cursor.execute(query)\n",
    "    for x in cursor:\n",
    "        print(x)"
   ]
  },
  {
   "cell_type": "code",
   "execution_count": 85,
   "id": "f283ddc8",
   "metadata": {},
   "outputs": [
    {
     "name": "stdout",
     "output_type": "stream",
     "text": [
      "___________________Welcome in Movie portal________________________\n",
      "___________________Current Available show_________________________\n",
      "||    Movie    || Duration || Theater Name || City || Total Seats || Available || Screen No\n",
      "('Bhool Bhulaiya', 154, 'Carnival', 'Kanpur', 120, 120, 1)\n",
      "('Bhool Bhulaiya', 154, 'Carnival', 'Kanpur', 120, 120, 1)\n",
      "('Bhool Bhulaiya', 154, 'Carnival', 'Kanpur', 120, 120, 2)\n",
      "('Bhool Bhulaiya 2', 130, 'Carnival', 'Kanpur', 120, 120, 2)\n",
      "('Bhool Bhulaiya', 154, 'PVR', 'Kanpur', 120, 120, 1)\n",
      "('Bhool Bhulaiya', 154, 'PVR', 'Kanpur', 120, 120, 2)\n",
      "('Bhool Bhulaiya 2', 130, 'PVR', 'Kanpur', 120, 120, 3)\n",
      "____________________________Thanks________________________________\n"
     ]
    }
   ],
   "source": [
    "## User interface\n",
    "print(\"___________________Welcome in Movie portal________________________\")\n",
    "print(\"___________________Current Available show_________________________\")\n",
    "show_available()\n",
    "print(\"____________________________Thanks________________________________\")"
   ]
  },
  {
   "cell_type": "code",
   "execution_count": 88,
   "id": "29ad33ff",
   "metadata": {},
   "outputs": [],
   "source": [
    "### isshow available\n",
    "def show_available(movie,theater,screen,city):\n",
    "    query = \"\"\"select m.name,m.movie_id,t.name,t.theater_id,c.name,c.pincode,t.filled,\n",
    "    (t.capacity-t.filled),t.screen from movie m,theater t ,shows s ,city c where s.movie_id = m.movie_id \n",
    "    and t.theater_id = s.theater_id and t.pincode = c.pincode and s.screen=t.screen and\n",
    "    (t.capacity-t.filled)>0\"\"\"\n",
    "    cursor.execute(query)\n",
    "    for x in cursor:\n",
    "        if(x[0].lower()==movie and x[2].lower()==theater and x[7]>0 and x[8]==screen and x[4].lower()==city):\n",
    "            return (True ,x)\n",
    "    return (False,(0))"
   ]
  },
  {
   "cell_type": "code",
   "execution_count": 89,
   "id": "e5b4bf1b",
   "metadata": {},
   "outputs": [],
   "source": [
    "### Perform booking \n",
    "def update_table(id,remaining):\n",
    "    query = \"\"\"update theater set filled = (%s) where theater_id = (%s)\"\"\"\n",
    "    cursor.execute(query ,(remaining,id))\n",
    "    \n",
    "def book_ticket(details,user_id ,user_name):\n",
    "    update_table(details[3],details[7])\n",
    "    query = \"insert into booking values(%s,%s,%s,%s,%s,%s,%s)\"\n",
    "    cursor.execute(query,(user_id,user_name,details[0],details[2],details[8],details[4],details[6]))\n",
    "    return True"
   ]
  },
  {
   "cell_type": "code",
   "execution_count": 90,
   "id": "87c405df",
   "metadata": {},
   "outputs": [
    {
     "name": "stdout",
     "output_type": "stream",
     "text": [
      "Enter Your City kanpur\n",
      "Enter Theater Namepvr\n",
      "Enter movie NameBhool Bhulaiya\n",
      "Enter Screen No2\n",
      "Enter Your NameAshutosh\n"
     ]
    },
    {
     "ename": "DatabaseError",
     "evalue": "1205 (HY000): Lock wait timeout exceeded; try restarting transaction",
     "output_type": "error",
     "traceback": [
      "\u001b[1;31m---------------------------------------------------------------------------\u001b[0m",
      "\u001b[1;31mMySQLInterfaceError\u001b[0m                       Traceback (most recent call last)",
      "File \u001b[1;32m~\\AppData\\Local\\Programs\\Python\\Python310\\lib\\site-packages\\mysql\\connector\\connection_cext.py:565\u001b[0m, in \u001b[0;36mCMySQLConnection.cmd_query\u001b[1;34m(self, query, raw, buffered, raw_as_string)\u001b[0m\n\u001b[0;32m    564\u001b[0m         query \u001b[38;5;241m=\u001b[39m query\u001b[38;5;241m.\u001b[39mencode(\u001b[38;5;124m\"\u001b[39m\u001b[38;5;124mutf-8\u001b[39m\u001b[38;5;124m\"\u001b[39m)\n\u001b[1;32m--> 565\u001b[0m     \u001b[38;5;28;43mself\u001b[39;49m\u001b[38;5;241;43m.\u001b[39;49m\u001b[43m_cmysql\u001b[49m\u001b[38;5;241;43m.\u001b[39;49m\u001b[43mquery\u001b[49m\u001b[43m(\u001b[49m\n\u001b[0;32m    566\u001b[0m \u001b[43m        \u001b[49m\u001b[43mquery\u001b[49m\u001b[43m,\u001b[49m\n\u001b[0;32m    567\u001b[0m \u001b[43m        \u001b[49m\u001b[43mraw\u001b[49m\u001b[38;5;241;43m=\u001b[39;49m\u001b[43mraw\u001b[49m\u001b[43m,\u001b[49m\n\u001b[0;32m    568\u001b[0m \u001b[43m        \u001b[49m\u001b[43mbuffered\u001b[49m\u001b[38;5;241;43m=\u001b[39;49m\u001b[43mbuffered\u001b[49m\u001b[43m,\u001b[49m\n\u001b[0;32m    569\u001b[0m \u001b[43m        \u001b[49m\u001b[43mraw_as_string\u001b[49m\u001b[38;5;241;43m=\u001b[39;49m\u001b[43mraw_as_string\u001b[49m\u001b[43m,\u001b[49m\n\u001b[0;32m    570\u001b[0m \u001b[43m        \u001b[49m\u001b[43mquery_attrs\u001b[49m\u001b[38;5;241;43m=\u001b[39;49m\u001b[38;5;28;43mself\u001b[39;49m\u001b[38;5;241;43m.\u001b[39;49m\u001b[43m_query_attrs\u001b[49m\u001b[43m,\u001b[49m\n\u001b[0;32m    571\u001b[0m \u001b[43m    \u001b[49m\u001b[43m)\u001b[49m\n\u001b[0;32m    572\u001b[0m \u001b[38;5;28;01mexcept\u001b[39;00m MySQLInterfaceError \u001b[38;5;28;01mas\u001b[39;00m err:\n",
      "\u001b[1;31mMySQLInterfaceError\u001b[0m: Lock wait timeout exceeded; try restarting transaction",
      "\nThe above exception was the direct cause of the following exception:\n",
      "\u001b[1;31mDatabaseError\u001b[0m                             Traceback (most recent call last)",
      "Input \u001b[1;32mIn [90]\u001b[0m, in \u001b[0;36m<cell line: 10>\u001b[1;34m()\u001b[0m\n\u001b[0;32m     10\u001b[0m \u001b[38;5;28;01mif\u001b[39;00m isavailable:\n\u001b[0;32m     11\u001b[0m     user_name \u001b[38;5;241m=\u001b[39m \u001b[38;5;28minput\u001b[39m(\u001b[38;5;124m\"\u001b[39m\u001b[38;5;124mEnter Your Name\u001b[39m\u001b[38;5;124m\"\u001b[39m)\n\u001b[1;32m---> 12\u001b[0m     \u001b[38;5;28;01mif\u001b[39;00m(\u001b[43mbook_ticket\u001b[49m\u001b[43m(\u001b[49m\u001b[43mdetails\u001b[49m\u001b[43m,\u001b[49m\u001b[43muser_id\u001b[49m\u001b[43m,\u001b[49m\u001b[43muser_name\u001b[49m\u001b[43m)\u001b[49m):\n\u001b[0;32m     13\u001b[0m         \u001b[38;5;28mprint\u001b[39m(\u001b[38;5;124m\"\u001b[39m\u001b[38;5;124mBooKing Successfull\u001b[39m\u001b[38;5;124m\"\u001b[39m)\n\u001b[0;32m     14\u001b[0m     \u001b[38;5;28;01melse\u001b[39;00m:\n",
      "Input \u001b[1;32mIn [89]\u001b[0m, in \u001b[0;36mbook_ticket\u001b[1;34m(details, user_id, user_name)\u001b[0m\n\u001b[0;32m      6\u001b[0m \u001b[38;5;28;01mdef\u001b[39;00m \u001b[38;5;21mbook_ticket\u001b[39m(details,user_id ,user_name):\n\u001b[1;32m----> 7\u001b[0m     \u001b[43mupdate_table\u001b[49m\u001b[43m(\u001b[49m\u001b[43mdetails\u001b[49m\u001b[43m[\u001b[49m\u001b[38;5;241;43m3\u001b[39;49m\u001b[43m]\u001b[49m\u001b[43m,\u001b[49m\u001b[43mdetails\u001b[49m\u001b[43m[\u001b[49m\u001b[38;5;241;43m7\u001b[39;49m\u001b[43m]\u001b[49m\u001b[43m)\u001b[49m\n\u001b[0;32m      8\u001b[0m     query \u001b[38;5;241m=\u001b[39m \u001b[38;5;124m\"\u001b[39m\u001b[38;5;124minsert into booking values(\u001b[39m\u001b[38;5;132;01m%s\u001b[39;00m\u001b[38;5;124m,\u001b[39m\u001b[38;5;132;01m%s\u001b[39;00m\u001b[38;5;124m,\u001b[39m\u001b[38;5;132;01m%s\u001b[39;00m\u001b[38;5;124m,\u001b[39m\u001b[38;5;132;01m%s\u001b[39;00m\u001b[38;5;124m,\u001b[39m\u001b[38;5;132;01m%s\u001b[39;00m\u001b[38;5;124m,\u001b[39m\u001b[38;5;132;01m%s\u001b[39;00m\u001b[38;5;124m,\u001b[39m\u001b[38;5;132;01m%s\u001b[39;00m\u001b[38;5;124m)\u001b[39m\u001b[38;5;124m\"\u001b[39m\n\u001b[0;32m      9\u001b[0m     cursor\u001b[38;5;241m.\u001b[39mexecute(query,(user_id,user_name,details[\u001b[38;5;241m0\u001b[39m],details[\u001b[38;5;241m2\u001b[39m],details[\u001b[38;5;241m8\u001b[39m],details[\u001b[38;5;241m4\u001b[39m],details[\u001b[38;5;241m6\u001b[39m]\u001b[38;5;241m+\u001b[39m\u001b[38;5;241m1\u001b[39m))\n",
      "Input \u001b[1;32mIn [89]\u001b[0m, in \u001b[0;36mupdate_table\u001b[1;34m(id, remaining)\u001b[0m\n\u001b[0;32m      2\u001b[0m \u001b[38;5;28;01mdef\u001b[39;00m \u001b[38;5;21mupdate_table\u001b[39m(\u001b[38;5;28mid\u001b[39m,remaining):\n\u001b[0;32m      3\u001b[0m     query \u001b[38;5;241m=\u001b[39m \u001b[38;5;124m\"\"\"\u001b[39m\u001b[38;5;124mupdate theater set filled = (\u001b[39m\u001b[38;5;132;01m%s\u001b[39;00m\u001b[38;5;124m) where theater_id = (\u001b[39m\u001b[38;5;132;01m%s\u001b[39;00m\u001b[38;5;124m)\u001b[39m\u001b[38;5;124m\"\"\"\u001b[39m\n\u001b[1;32m----> 4\u001b[0m     \u001b[43mcursor\u001b[49m\u001b[38;5;241;43m.\u001b[39;49m\u001b[43mexecute\u001b[49m\u001b[43m(\u001b[49m\u001b[43mquery\u001b[49m\u001b[43m \u001b[49m\u001b[43m,\u001b[49m\u001b[43m(\u001b[49m\u001b[43mremaining\u001b[49m\u001b[43m,\u001b[49m\u001b[38;5;28;43mid\u001b[39;49m\u001b[43m)\u001b[49m\u001b[43m)\u001b[49m\n",
      "File \u001b[1;32m~\\AppData\\Local\\Programs\\Python\\Python310\\lib\\site-packages\\mysql\\connector\\cursor_cext.py:279\u001b[0m, in \u001b[0;36mCMySQLCursor.execute\u001b[1;34m(self, operation, params, multi)\u001b[0m\n\u001b[0;32m    274\u001b[0m             \u001b[38;5;28;01mraise\u001b[39;00m ProgrammingError(\n\u001b[0;32m    275\u001b[0m                 \u001b[38;5;124m\"\u001b[39m\u001b[38;5;124mNot all parameters were used in the SQL statement\u001b[39m\u001b[38;5;124m\"\u001b[39m\n\u001b[0;32m    276\u001b[0m             )\n\u001b[0;32m    278\u001b[0m \u001b[38;5;28;01mtry\u001b[39;00m:\n\u001b[1;32m--> 279\u001b[0m     result \u001b[38;5;241m=\u001b[39m \u001b[38;5;28;43mself\u001b[39;49m\u001b[38;5;241;43m.\u001b[39;49m\u001b[43m_cnx\u001b[49m\u001b[38;5;241;43m.\u001b[39;49m\u001b[43mcmd_query\u001b[49m\u001b[43m(\u001b[49m\n\u001b[0;32m    280\u001b[0m \u001b[43m        \u001b[49m\u001b[43mstmt\u001b[49m\u001b[43m,\u001b[49m\n\u001b[0;32m    281\u001b[0m \u001b[43m        \u001b[49m\u001b[43mraw\u001b[49m\u001b[38;5;241;43m=\u001b[39;49m\u001b[38;5;28;43mself\u001b[39;49m\u001b[38;5;241;43m.\u001b[39;49m\u001b[43m_raw\u001b[49m\u001b[43m,\u001b[49m\n\u001b[0;32m    282\u001b[0m \u001b[43m        \u001b[49m\u001b[43mbuffered\u001b[49m\u001b[38;5;241;43m=\u001b[39;49m\u001b[38;5;28;43mself\u001b[39;49m\u001b[38;5;241;43m.\u001b[39;49m\u001b[43m_buffered\u001b[49m\u001b[43m,\u001b[49m\n\u001b[0;32m    283\u001b[0m \u001b[43m        \u001b[49m\u001b[43mraw_as_string\u001b[49m\u001b[38;5;241;43m=\u001b[39;49m\u001b[38;5;28;43mself\u001b[39;49m\u001b[38;5;241;43m.\u001b[39;49m\u001b[43m_raw_as_string\u001b[49m\u001b[43m,\u001b[49m\n\u001b[0;32m    284\u001b[0m \u001b[43m    \u001b[49m\u001b[43m)\u001b[49m\n\u001b[0;32m    285\u001b[0m \u001b[38;5;28;01mexcept\u001b[39;00m MySQLInterfaceError \u001b[38;5;28;01mas\u001b[39;00m err:\n\u001b[0;32m    286\u001b[0m     \u001b[38;5;28;01mraise\u001b[39;00m get_mysql_exception(\n\u001b[0;32m    287\u001b[0m         msg\u001b[38;5;241m=\u001b[39merr\u001b[38;5;241m.\u001b[39mmsg, errno\u001b[38;5;241m=\u001b[39merr\u001b[38;5;241m.\u001b[39merrno, sqlstate\u001b[38;5;241m=\u001b[39merr\u001b[38;5;241m.\u001b[39msqlstate\n\u001b[0;32m    288\u001b[0m     ) \u001b[38;5;28;01mfrom\u001b[39;00m \u001b[38;5;21;01merr\u001b[39;00m\n",
      "File \u001b[1;32m~\\AppData\\Local\\Programs\\Python\\Python310\\lib\\site-packages\\mysql\\connector\\connection_cext.py:573\u001b[0m, in \u001b[0;36mCMySQLConnection.cmd_query\u001b[1;34m(self, query, raw, buffered, raw_as_string)\u001b[0m\n\u001b[0;32m    565\u001b[0m     \u001b[38;5;28mself\u001b[39m\u001b[38;5;241m.\u001b[39m_cmysql\u001b[38;5;241m.\u001b[39mquery(\n\u001b[0;32m    566\u001b[0m         query,\n\u001b[0;32m    567\u001b[0m         raw\u001b[38;5;241m=\u001b[39mraw,\n\u001b[1;32m   (...)\u001b[0m\n\u001b[0;32m    570\u001b[0m         query_attrs\u001b[38;5;241m=\u001b[39m\u001b[38;5;28mself\u001b[39m\u001b[38;5;241m.\u001b[39m_query_attrs,\n\u001b[0;32m    571\u001b[0m     )\n\u001b[0;32m    572\u001b[0m \u001b[38;5;28;01mexcept\u001b[39;00m MySQLInterfaceError \u001b[38;5;28;01mas\u001b[39;00m err:\n\u001b[1;32m--> 573\u001b[0m     \u001b[38;5;28;01mraise\u001b[39;00m get_mysql_exception(\n\u001b[0;32m    574\u001b[0m         err\u001b[38;5;241m.\u001b[39merrno, msg\u001b[38;5;241m=\u001b[39merr\u001b[38;5;241m.\u001b[39mmsg, sqlstate\u001b[38;5;241m=\u001b[39merr\u001b[38;5;241m.\u001b[39msqlstate\n\u001b[0;32m    575\u001b[0m     ) \u001b[38;5;28;01mfrom\u001b[39;00m \u001b[38;5;21;01merr\u001b[39;00m\n\u001b[0;32m    576\u001b[0m \u001b[38;5;28;01mexcept\u001b[39;00m \u001b[38;5;167;01mAttributeError\u001b[39;00m \u001b[38;5;28;01mas\u001b[39;00m err:\n\u001b[0;32m    577\u001b[0m     addr \u001b[38;5;241m=\u001b[39m (\n\u001b[0;32m    578\u001b[0m         \u001b[38;5;28mself\u001b[39m\u001b[38;5;241m.\u001b[39m_unix_socket \u001b[38;5;28;01mif\u001b[39;00m \u001b[38;5;28mself\u001b[39m\u001b[38;5;241m.\u001b[39m_unix_socket \u001b[38;5;28;01melse\u001b[39;00m \u001b[38;5;124mf\u001b[39m\u001b[38;5;124m\"\u001b[39m\u001b[38;5;132;01m{\u001b[39;00m\u001b[38;5;28mself\u001b[39m\u001b[38;5;241m.\u001b[39m_host\u001b[38;5;132;01m}\u001b[39;00m\u001b[38;5;124m:\u001b[39m\u001b[38;5;132;01m{\u001b[39;00m\u001b[38;5;28mself\u001b[39m\u001b[38;5;241m.\u001b[39m_port\u001b[38;5;132;01m}\u001b[39;00m\u001b[38;5;124m\"\u001b[39m\n\u001b[0;32m    579\u001b[0m     )\n",
      "\u001b[1;31mDatabaseError\u001b[0m: 1205 (HY000): Lock wait timeout exceeded; try restarting transaction"
     ]
    }
   ],
   "source": [
    "## Booking \n",
    "query = \"select * from booking\"\n",
    "cursor.execute(query)\n",
    "user_id = cursor.rowcount+1\n",
    "city = input(\"Enter Your City \").lower()\n",
    "theater = input(\"Enter Theater Name\").lower()\n",
    "movie = input(\"Enter movie Name\").lower()\n",
    "screen = int(input(\"Enter Screen No\"))\n",
    "isavailable,details = show_available(movie,theater,screen,city)\n",
    "if isavailable:\n",
    "    user_name = input(\"Enter Your Name\")\n",
    "    if(book_ticket(details,user_id,user_name)):\n",
    "        print(\"BooKing Successfull\")\n",
    "    else:\n",
    "        print(\"ERROR\") \n",
    "else:\n",
    "    print(\"__________________Sorry! No Show Available__________________\")"
   ]
  },
  {
   "cell_type": "code",
   "execution_count": 66,
   "id": "83ea60cc",
   "metadata": {},
   "outputs": [],
   "source": [
    "query = \"drop table booking\"\n",
    "cursor.execute(query)"
   ]
  },
  {
   "cell_type": "code",
   "execution_count": null,
   "id": "3b19e9ef",
   "metadata": {},
   "outputs": [],
   "source": []
  },
  {
   "cell_type": "code",
   "execution_count": null,
   "id": "8e691e23",
   "metadata": {},
   "outputs": [],
   "source": [
    "\n",
    "                          \n",
    "                            "
   ]
  },
  {
   "cell_type": "code",
   "execution_count": null,
   "id": "02f5443b",
   "metadata": {},
   "outputs": [],
   "source": []
  },
  {
   "cell_type": "code",
   "execution_count": null,
   "id": "b8b44012",
   "metadata": {},
   "outputs": [],
   "source": []
  },
  {
   "cell_type": "code",
   "execution_count": null,
   "id": "8fbf79ff",
   "metadata": {},
   "outputs": [],
   "source": []
  },
  {
   "cell_type": "code",
   "execution_count": null,
   "id": "2d010588",
   "metadata": {},
   "outputs": [],
   "source": [
    "# txt = \"banana\"\n",
    "\n",
    "# x = txt.center(20, \"O\")\n",
    "\n",
    "# print(x)\n"
   ]
  }
 ],
 "metadata": {
  "kernelspec": {
   "display_name": "Python 3 (ipykernel)",
   "language": "python",
   "name": "python3"
  },
  "language_info": {
   "codemirror_mode": {
    "name": "ipython",
    "version": 3
   },
   "file_extension": ".py",
   "mimetype": "text/x-python",
   "name": "python",
   "nbconvert_exporter": "python",
   "pygments_lexer": "ipython3",
   "version": "3.10.4"
  }
 },
 "nbformat": 4,
 "nbformat_minor": 5
}
