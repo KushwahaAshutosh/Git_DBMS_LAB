{
 "cells": [
  {
   "cell_type": "markdown",
   "id": "2b995341",
   "metadata": {},
   "source": [
    "#### ADBMS LAB 9\n",
    "##### NAME : Ashutosh Singh Kushwaha\n",
    "##### Admission N0 :22MT0084"
   ]
  },
  {
   "cell_type": "markdown",
   "id": "08dd3974",
   "metadata": {},
   "source": [
    "#### Objective : \n",
    "Create a movie ticket booking system on python which is connected to a database. The users should\n",
    "be able to choose the movie, theater, screen and city of their choice to watch the movie. Use python\n",
    "for your work and use object oriented features of python like classes, inheritance, etc. Then input\n",
    "these values into a connected database. Additionally use git for version control."
   ]
  },
  {
   "cell_type": "code",
   "execution_count": 1,
   "id": "9935fd77",
   "metadata": {},
   "outputs": [],
   "source": [
    "import mysql.connector as sc"
   ]
  },
  {
   "cell_type": "code",
   "execution_count": 2,
   "id": "be2c93c5",
   "metadata": {},
   "outputs": [
    {
     "name": "stdout",
     "output_type": "stream",
     "text": [
      "<mysql.connector.connection_cext.CMySQLConnection object at 0x0000027C20AC72B0>\n"
     ]
    }
   ],
   "source": [
    "myconn = sc.connect( \n",
    "    database = \"adbms\",\n",
    "    host = \"localhost\",\n",
    "    password = \"Kushashu123\",\n",
    "    user = \"root\"\n",
    ")\n",
    "print(myconn)"
   ]
  },
  {
   "cell_type": "code",
   "execution_count": 3,
   "id": "c0cb3075",
   "metadata": {},
   "outputs": [],
   "source": [
    "cursor = myconn.cursor(buffered = True)"
   ]
  },
  {
   "cell_type": "code",
   "execution_count": 4,
   "id": "08ddbfe1",
   "metadata": {},
   "outputs": [
    {
     "name": "stdout",
     "output_type": "stream",
     "text": [
      "('booking',)\n",
      "('city',)\n",
      "('department_salary_total',)\n",
      "('dept_avg',)\n",
      "('dp',)\n",
      "('faculty',)\n",
      "('instructor',)\n",
      "('movie',)\n",
      "('shows',)\n",
      "('teaches',)\n",
      "('teaches2',)\n",
      "('theater',)\n",
      "('user_detail',)\n",
      "('user_view',)\n"
     ]
    }
   ],
   "source": [
    "query = \"\"\"show tables\"\"\"\n",
    "cursor.execute(query)\n",
    "for x in cursor:\n",
    "    print(x)"
   ]
  },
  {
   "cell_type": "markdown",
   "id": "486d1940",
   "metadata": {},
   "source": [
    "##### We are Creating five table \n",
    "1. Movie \n",
    "2. Theater\n",
    "3. City\n",
    "4. Current running shows\n",
    "5. Booking "
   ]
  },
  {
   "cell_type": "code",
   "execution_count": 53,
   "id": "b2c8e821",
   "metadata": {},
   "outputs": [],
   "source": [
    "## MOVIE\n",
    "query = \"\"\"create table movie (\n",
    "movie_id Integer primary key,\n",
    "Name varchar(40) not null,\n",
    "Genre varchar(40) not null,\n",
    "duration Integer not null,\n",
    "check ((duration between 15 and 200)) )\"\"\"\n",
    "cursor.execute(query)"
   ]
  },
  {
   "cell_type": "code",
   "execution_count": 54,
   "id": "05817d41",
   "metadata": {},
   "outputs": [],
   "source": [
    "## Theater\n",
    "query = \"\"\"create table theater(\n",
    "theater_id Integer primary key,\n",
    "Name varchar(40) not null,\n",
    "capacity Integer not null,\n",
    "filled Integer not null,\n",
    "pincode Integer,\n",
    "screen Integer,\n",
    "foreign key(pincode) references city(pincode),\n",
    "check (filled>-1 and capacity>0))\"\"\"\n",
    "cursor.execute(query)"
   ]
  },
  {
   "cell_type": "code",
   "execution_count": 55,
   "id": "fe7f1084",
   "metadata": {},
   "outputs": [],
   "source": [
    "## City \n",
    "query = \"\"\"create table city(\n",
    "pincode integer primary key,\n",
    "Name varchar(30) not null)\"\"\"\n",
    "cursor.execute(query)"
   ]
  },
  {
   "cell_type": "code",
   "execution_count": 56,
   "id": "93f0f335",
   "metadata": {},
   "outputs": [],
   "source": [
    "## Current Running Shows\n",
    "query = \"\"\"create table shows(\n",
    "movie_id integer,\n",
    "theater_id integer,\n",
    "screen integer,\n",
    "foreign key(movie_id) references movie(movie_id),\n",
    "foreign key(theater_id) references theater(theater_id)\n",
    ")\"\"\"\n",
    "cursor.execute(query)"
   ]
  },
  {
   "cell_type": "code",
   "execution_count": 57,
   "id": "bd178b68",
   "metadata": {},
   "outputs": [],
   "source": [
    "## booking\n",
    "query = \"\"\"create table booking(\n",
    "user_id integer primary key,\n",
    "user_name varchar(30),\n",
    "movie_name varchar(30),\n",
    "theater_name varchar(30),\n",
    "screen integer,\n",
    "city varchar(30),\n",
    "seat_no integer\n",
    ")\"\"\"\n",
    "cursor.execute(query)"
   ]
  },
  {
   "cell_type": "code",
   "execution_count": 58,
   "id": "06ea89ca",
   "metadata": {},
   "outputs": [],
   "source": [
    "### inserting  Movie\n",
    "query = \"\"\"insert into movie values(%s,%s,%s,%s)\"\"\"\n",
    "cursor.execute(query,(1,\"Bhool Bhulaiya\",\"comedy\",154))\n",
    "cursor.execute(query,(2,\"Bhool Bhulaiya 2\",\"comedy\",130))\n",
    "cursor.execute(query,(3,\"pathaan\",\"action\",146))\n",
    "cursor.execute(query,(4,\"Drishayam\",\"thriller\",130))"
   ]
  },
  {
   "cell_type": "code",
   "execution_count": 59,
   "id": "10390e5b",
   "metadata": {},
   "outputs": [],
   "source": [
    "## Adding theaters\n",
    "query = \"\"\"insert into theater values(%s,%s,%s,%s,%s,%s)\"\"\"\n",
    "cursor.execute(query,(1, 'Carnival', 120, 0, 208007, 1))\n",
    "cursor.execute(query,(2, 'Carnival', 120, 0, 208007, 2))\n",
    "cursor.execute(query,(3, 'PVR', 120, 0, 208007, 1))\n",
    "cursor.execute(query,(4, 'PVR', 120, 0, 208007, 2))\n",
    "cursor.execute(query,(5, 'PVR', 120, 0, 208007, 3))\n",
    "cursor.execute(query,(6,\"INOX\",120,0,826004,1))\n",
    "cursor.execute(query,(7,\"INOX\",120,0,826004,2))"
   ]
  },
  {
   "cell_type": "code",
   "execution_count": 60,
   "id": "0b844b61",
   "metadata": {},
   "outputs": [],
   "source": [
    "## Creating show \n",
    "query = \"\"\"insert into shows values(%s,%s,%s)\"\"\"\n",
    "cursor.execute(query ,(1,1,1))\n",
    "cursor.execute(query ,(2,2,2))\n",
    "cursor.execute(query ,(1,3,1))\n",
    "cursor.execute(query ,(1,4,2))\n",
    "cursor.execute(query ,(2,5,3))"
   ]
  },
  {
   "cell_type": "code",
   "execution_count": null,
   "id": "9889acfc",
   "metadata": {},
   "outputs": [],
   "source": [
    "### Defining Movie Class with "
   ]
  },
  {
   "cell_type": "code",
   "execution_count": 25,
   "id": "78f703fa",
   "metadata": {},
   "outputs": [],
   "source": [
    "class movie_portal:\n",
    "    def book(self):\n",
    "         ## Booking \n",
    "        query = \"select * from booking\"\n",
    "        cursor.execute(query)\n",
    "        user_id = cursor.rowcount+1\n",
    "        city = input(\"Enter Your City   \").lower()\n",
    "        theater = input(\"Enter Theater Name   \").lower()\n",
    "        movie = input(\"Enter movie Name   \").lower()\n",
    "        screen = int(input(\"Enter Screen No   \"))\n",
    "        isavailable,details = self.show_available(movie,theater,screen,city)\n",
    "        if isavailable:\n",
    "            user_name = input(\"Enter Your Name   \")\n",
    "            if(self.book_ticket(details,user_id,user_name)):\n",
    "                print(\"BooKing Successfull\")\n",
    "            else:\n",
    "                print(\"ERROR\") \n",
    "        else:\n",
    "            print(\"__________________Sorry! No Show Available__________________\")\n",
    "    def __init__(self):\n",
    "        print(\"\\n______________________________________________________Welcome in Movie portal________________________________________________________\")\n",
    "        ans = input(\"\\n Select your Choice \\n\\n1.Book Ticket \\n2.Booking History \\n3.Exit\\n\")\n",
    "        if ans =='1':\n",
    "            print(\"\\n\\n__________________________________________________________Available shows_________________________________________________________\")\n",
    "            self.Running_show()\n",
    "            self.book()\n",
    "        elif ans =='2':\n",
    "            self.booking_history()\n",
    "        else:\n",
    "            print(\"Good Bye\")\n",
    "        \n",
    "        print(\"\\n\\n\\n________________________________________________________________Thanks________________________________________________________________\")\n",
    "        \n",
    "        \n",
    "    def Running_show(self):\n",
    "        print(\"||\",\"Movie\".center(20,\" \"),\"||\",\"Duration\".center(8,\" \"),\"||\",\"Theater Name\".center(20,\" \"),\"||\",\"City\".center(20,\" \"),\"||\",\"Total Seats\".center(12,\" \"),\"||\",\"Available\".center(12,\" \"),\"||\",\"Screen No\".center(12,\" \"),\"||\")\n",
    "        query = \"\"\"select m.name,m.duration,t.name,c.name,t.capacity,(t.capacity-t.filled),t.screen\n",
    "        from movie m,theater t ,shows s ,city c where s.movie_id = m.movie_id \n",
    "        and t.theater_id = s.theater_id and t.pincode = c.pincode and s.screen=t.screen and\n",
    "        (t.capacity-t.filled)>0\"\"\"\n",
    "        cursor.execute(query)\n",
    "        for x in cursor:\n",
    "            print(\"||\",x[0].center(20,\" \"),\"||\",str(x[1]).center(8,\" \"),\"||\",x[2].center(20,\" \"),\"||\",x[3].center(20,\" \"),\"||\",str(x[4]).center(12,\" \"),\"||\",str(x[5]).center(12,\" \"),\"||\",str(x[6]).center(12,\" \"),\"||\")    \n",
    "    ### isshow available\n",
    "    \n",
    "    def show_available(self,movie,theater,screen,city):\n",
    "        query = \"\"\"select m.name,m.movie_id,t.name,t.theater_id,c.name,c.pincode,t.filled,\n",
    "        (t.capacity-t.filled),t.screen from movie m,theater t ,shows s ,city c where s.movie_id = m.movie_id \n",
    "        and t.theater_id = s.theater_id and t.pincode = c.pincode and s.screen=t.screen and\n",
    "        (t.capacity-t.filled)>0\"\"\"\n",
    "        cursor.execute(query)\n",
    "        for x in cursor:\n",
    "            if(x[0].lower()==movie and x[2].lower()==theater and x[7]>0 and x[8]==screen and x[4].lower()==city):\n",
    "                return (True ,x)\n",
    "        return (False,(0))\n",
    "    \n",
    "    ### Updating available seats\n",
    "    def update_table(self,id,remaining):\n",
    "        query = \"\"\"update theater set filled = (%s) where theater_id = (%s)\"\"\"\n",
    "        cursor.execute(query ,(remaining,id))\n",
    "        \n",
    "    ### Perform booking \n",
    "    def book_ticket(self,details,user_id ,user_name):\n",
    "        self.update_table(details[3],details[6]+1)\n",
    "        query = \"insert into booking values(%s,%s,%s,%s,%s,%s,%s)\"\n",
    "        cursor.execute(query,(user_id,user_name,details[0],details[2],details[8],details[4],details[6]+1))\n",
    "        return True\n",
    "    def booking_history(self):\n",
    "        query = \"\"\"select * from booking\"\"\"\n",
    "        cursor.execute(query)\n",
    "        print(\"\\n\\n\\n___________________________________________________________Booking History___________________________________________________________\")\n",
    "        print(\"\\n\\n||\",\"User ID\".center(10,\" \"),\"||\",\"User Name\".center(20,\" \"),\"||\",\"Movie Name\".center(20,\" \"),\"||\",\"Theater Name\".center(12,\" \"),\"||\",\"Screen No\".center(12,\" \"),\"||\",\"City\".center(12,\" \"),\"||\",\"Seat No\".center(8,\" \"),\"||\")\n",
    "        for x in cursor:\n",
    "            print(\"||\",str(x[0]).center(10,\" \"),\"||\",x[1].center(20,\" \"),\"||\",x[2].center(20,\" \"),\"||\",x[3].center(12,\" \"),\"||\",str(x[4]).center(12,\" \"),\"||\",x[5].center(12,\" \"),\"||\",str(x[6]).center(8,\" \"),\"||\") \n",
    "            "
   ]
  },
  {
   "cell_type": "code",
   "execution_count": 29,
   "id": "6b8c01da",
   "metadata": {},
   "outputs": [
    {
     "name": "stdout",
     "output_type": "stream",
     "text": [
      "\n",
      "______________________________________________________Welcome in Movie portal________________________________________________________\n",
      "\n",
      " Select your Choice \n",
      "\n",
      "1.Book Ticket \n",
      "2.Booking History \n",
      "3.Exit\n",
      "2\n",
      "\n",
      "\n",
      "\n",
      "___________________________________________________________Booking History___________________________________________________________\n",
      "\n",
      "\n",
      "||  User ID   ||      User Name       ||      Movie Name      || Theater Name ||  Screen No   ||     City     || Seat No  ||\n",
      "||     1      ||         Ashu         ||    Bhool Bhulaiya    ||   Carnival   ||      1       ||    Kanpur    ||    2     ||\n",
      "||     2      ||        suman         ||   Bhool Bhulaiya 2   ||     PVR      ||      3       ||    Kanpur    ||    1     ||\n",
      "||     3      ||      Alok Kumar      ||    Bhool Bhulaiya    ||     PVR      ||      1       ||    Kanpur    ||    1     ||\n",
      "\n",
      "\n",
      "\n",
      "________________________________________________________________Thanks________________________________________________________________\n"
     ]
    }
   ],
   "source": [
    "## main Driver code \n",
    "m = movie_portal()"
   ]
  },
  {
   "cell_type": "code",
   "execution_count": 30,
   "id": "46037a96",
   "metadata": {},
   "outputs": [
    {
     "name": "stdout",
     "output_type": "stream",
     "text": [
      "\n",
      "______________________________________________________Welcome in Movie portal________________________________________________________\n",
      "\n",
      " Select your Choice \n",
      "\n",
      "1.Book Ticket \n",
      "2.Booking History \n",
      "3.Exit\n",
      "1\n",
      "\n",
      "\n",
      "__________________________________________________________Available shows_________________________________________________________\n",
      "||        Movie         || Duration ||     Theater Name     ||         City         || Total Seats  ||  Available   ||  Screen No   ||\n",
      "||    Bhool Bhulaiya    ||   154    ||       Carnival       ||        Kanpur        ||     120      ||     118      ||      1       ||\n",
      "||    Bhool Bhulaiya    ||   154    ||       Carnival       ||        Kanpur        ||     120      ||     118      ||      1       ||\n",
      "||    Bhool Bhulaiya    ||   154    ||       Carnival       ||        Kanpur        ||     120      ||     120      ||      2       ||\n",
      "||   Bhool Bhulaiya 2   ||   130    ||       Carnival       ||        Kanpur        ||     120      ||     120      ||      2       ||\n",
      "||    Bhool Bhulaiya    ||   154    ||         PVR          ||        Kanpur        ||     120      ||     119      ||      1       ||\n",
      "||    Bhool Bhulaiya    ||   154    ||         PVR          ||        Kanpur        ||     120      ||     120      ||      2       ||\n",
      "||   Bhool Bhulaiya 2   ||   130    ||         PVR          ||        Kanpur        ||     120      ||     119      ||      3       ||\n",
      "Enter Your City   Kanpur\n",
      "Enter Theater Name   PVR\n",
      "Enter movie Name   Bhool Bhulaiya\n",
      "Enter Screen No   2\n",
      "Enter Your Name   Ritwik\n",
      "BooKing Successfull\n",
      "\n",
      "\n",
      "\n",
      "________________________________________________________________Thanks________________________________________________________________\n"
     ]
    }
   ],
   "source": [
    "m = movie_portal()"
   ]
  },
  {
   "cell_type": "code",
   "execution_count": null,
   "id": "95de59c5",
   "metadata": {},
   "outputs": [],
   "source": []
  },
  {
   "cell_type": "code",
   "execution_count": null,
   "id": "f47370ce",
   "metadata": {},
   "outputs": [],
   "source": []
  }
 ],
 "metadata": {
  "kernelspec": {
   "display_name": "Python 3 (ipykernel)",
   "language": "python",
   "name": "python3"
  },
  "language_info": {
   "codemirror_mode": {
    "name": "ipython",
    "version": 3
   },
   "file_extension": ".py",
   "mimetype": "text/x-python",
   "name": "python",
   "nbconvert_exporter": "python",
   "pygments_lexer": "ipython3",
   "version": "3.10.4"
  }
 },
 "nbformat": 4,
 "nbformat_minor": 5
}
