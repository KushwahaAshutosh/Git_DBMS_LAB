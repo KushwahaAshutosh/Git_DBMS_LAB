{
 "cells": [
  {
   "cell_type": "code",
   "execution_count": null,
   "id": "ec6570bc",
   "metadata": {},
   "outputs": [],
   "source": []
  },
  {
   "cell_type": "code",
   "execution_count": 3,
   "id": "1ed7909e",
   "metadata": {},
   "outputs": [
    {
     "name": "stdout",
     "output_type": "stream",
     "text": [
      "<mysql.connector.connection_cext.CMySQLConnection object at 0x000001A2C72C6BF0>\n"
     ]
    }
   ],
   "source": [
    "import mysql.connector as sc\n",
    "myconn = sc.connect(\n",
    "    host = 'localhost',\n",
    "    user = 'root',\n",
    "    password = 'Kushashu123',\n",
    "    database = 'adbms'\n",
    ")\n",
    "cursor = myconn.cursor(buffered = True)\n",
    "print(myconn)"
   ]
  },
  {
   "cell_type": "markdown",
   "id": "5f6ebfb5",
   "metadata": {},
   "source": [
    "### Question 1\n",
    "### Given input as salary of three months (jan, feb, march), write a program that returns the total salary for quarter 1 (Q1)."
   ]
  },
  {
   "cell_type": "code",
   "execution_count": 21,
   "id": "ed610c23",
   "metadata": {},
   "outputs": [
    {
     "name": "stdout",
     "output_type": "stream",
     "text": [
      "(230,)\n"
     ]
    }
   ],
   "source": [
    "query = \"select quarter_salary(50,80,100)\"\n",
    "cursor.execute(query)\n",
    "for x in cursor:\n",
    "    print(x)"
   ]
  },
  {
   "cell_type": "code",
   "execution_count": null,
   "id": "521b85ea",
   "metadata": {},
   "outputs": [],
   "source": [
    "### Question 2\n",
    "### Commit your work on github"
   ]
  },
  {
   "cell_type": "code",
   "execution_count": null,
   "id": "c0561b9d",
   "metadata": {},
   "outputs": [],
   "source": []
  }
 ],
 "metadata": {
  "kernelspec": {
   "display_name": "Python 3 (ipykernel)",
   "language": "python",
   "name": "python3"
  },
  "language_info": {
   "codemirror_mode": {
    "name": "ipython",
    "version": 3
   },
   "file_extension": ".py",
   "mimetype": "text/x-python",
   "name": "python",
   "nbconvert_exporter": "python",
   "pygments_lexer": "ipython3",
   "version": "3.10.4"
  }
 },
 "nbformat": 4,
 "nbformat_minor": 5
}
