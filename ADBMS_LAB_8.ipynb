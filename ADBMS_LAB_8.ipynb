{
 "cells": [
  {
   "cell_type": "code",
   "execution_count": null,
   "id": "2e6d3376",
   "metadata": {},
   "outputs": [],
   "source": [
    "### Name : Ashutosh Singh Kushwaha\n",
    "### Admission No : 22MT0084\n",
    "### LAb 8"
   ]
  },
  {
   "cell_type": "code",
   "execution_count": 60,
   "id": "2f35ed17",
   "metadata": {},
   "outputs": [
    {
     "name": "stdout",
     "output_type": "stream",
     "text": [
      "<mysql.connector.connection_cext.CMySQLConnection object at 0x000001A2C977F940>\n"
     ]
    }
   ],
   "source": [
    "import mysql.connector as sc\n",
    "myconn = sc.connect(\n",
    "    host = 'localhost',\n",
    "    user = 'root',\n",
    "    password = 'Kushashu123',\n",
    "    database = 'adbms'\n",
    ")\n",
    "cursor = myconn.cursor(buffered = True)\n",
    "print(myconn)"
   ]
  },
  {
   "cell_type": "markdown",
   "id": "4ab59e62",
   "metadata": {},
   "source": [
    "### Question 1\n",
    "#### Given input as salary of three months (jan, feb, march), write a program that returns the total salary for quarter 1 (Q1)."
   ]
  },
  {
   "cell_type": "code",
   "execution_count": 44,
   "id": "e2b78288",
   "metadata": {},
   "outputs": [],
   "source": [
    "#declaring and defining function\n",
    "cursor.execute(\"set global log_bin_trust_function_creators = 1\")\n",
    "cursor.execute(\"create function calc_quarter(a double ,b double ,c double) returns double begin declare result double; \\\n",
    "set result = a+b+c ; return result; end)\""
   ]
  },
  {
   "cell_type": "code",
   "execution_count": 45,
   "id": "e9ce127f",
   "metadata": {},
   "outputs": [
    {
     "name": "stdout",
     "output_type": "stream",
     "text": [
      "Enter a salary to calculate the total salary for quarter 1\n",
      "Enter salary of January :120000\n",
      "Enter salary of February:1333000\n",
      "Enter salary of March : 130000\n",
      "The total salary for quarter 1 :  (1583000.0,)\n"
     ]
    }
   ],
   "source": [
    "print(\"Enter a salary to calculate the total salary for quarter 1\")\n",
    "jan_salary = float(input(\"Enter salary of January :\"))\n",
    "feb_salary = float(input(\"Enter salary of February:\"))\n",
    "march_salary = float(input(\"Enter salary of March : \"))\n",
    "val = (jan_salary,feb_salary ,march_salary)\n",
    "sql = \"set @x = calc_quarter(%s,%s,%s) \"\n",
    "cursor.execute(sql,val)\n",
    "cursor.execute(\"select @x\")\n",
    "myresult = cursor.fetchall()\n",
    "for x in myresult:\n",
    "    print(\"The total salary for quarter 1 : \" ,x)"
   ]
  },
  {
   "cell_type": "code",
   "execution_count": null,
   "id": "6fa3c470",
   "metadata": {},
   "outputs": [],
   "source": [
    "### Question 2\n",
    "### Commit your work on github"
   ]
  },
  {
   "cell_type": "markdown",
   "id": "cc04fcb6",
   "metadata": {},
   "source": [
    "### Question 3,4\n",
    "#### Alter the existing instructor table and add a column of age and fill in the values in it.\n",
    "#### Create table ‘instructor’ with the columns as ID, name, dept_name, salary, age. Add the following tuples to the table."
   ]
  },
  {
   "cell_type": "code",
   "execution_count": 22,
   "id": "4d28a6d6",
   "metadata": {},
   "outputs": [],
   "source": [
    "query = \"alter table instructor add column age int\"\n",
    "cursor.execute(query)"
   ]
  },
  {
   "cell_type": "code",
   "execution_count": 28,
   "id": "26efefbc",
   "metadata": {},
   "outputs": [],
   "source": [
    "query = \"insert into instructor values(%s,%s,%s,%s,%s)\"\n",
    "cursor.execute(query,(10101,'Srinivasan','Comp. Sci.',65000, 34))\n",
    "cursor.execute(query,(12121,'Wu','Finance',90000, 38))\n",
    "cursor.execute(query,(15151,'Mozart','Music',40000, 45))\n",
    "cursor.execute(query,(22222,'Einstein','Physics',95000, 55))"
   ]
  },
  {
   "cell_type": "code",
   "execution_count": 61,
   "id": "3327f43b",
   "metadata": {},
   "outputs": [
    {
     "name": "stdout",
     "output_type": "stream",
     "text": [
      "(10101, 'Srinivasan', 'Comp. Sci.', 65000, 34)\n",
      "(10211, 'Smith', 'Biology', 66000, None)\n",
      "(12121, 'Wu', 'Finance', 90000, 38)\n",
      "(15151, 'Mozart', 'Music', 40000, 45)\n",
      "(22222, 'Einstein', 'Physics', 95000, 55)\n",
      "(32343, 'El Said', 'History', 60000, None)\n",
      "(33456, 'Gold', 'Physics', 87000, None)\n",
      "(45565, 'Katz', 'Comp. Sci.', 75000, None)\n",
      "(58583, 'Califieri', 'History', 62000, None)\n",
      "(76543, 'Singh', 'Finance', 80000, None)\n",
      "(76766, 'Crick', 'Biology', 72000, None)\n",
      "(83821, 'Brandt', 'Comp. Sci.', 92000, None)\n",
      "(98345, 'Kim', 'Elec. Eng.', 80000, None)\n"
     ]
    }
   ],
   "source": [
    "### cross Check for insertion  \n",
    "query = \"select * from instructor\"\n",
    "cursor.execute(query)\n",
    "for x in cursor:\n",
    "    print(x)"
   ]
  },
  {
   "cell_type": "markdown",
   "id": "f5e8b042",
   "metadata": {},
   "source": [
    "### Question 5\n",
    "#### Create a function that helps distinguish whether an instructor is eligible for sabbatical or not.\n",
    "#### An instructor can avail sabbatical only if his/her age is greater than 40. So, write a program\n",
    "#### that takes as input an integer (representing age) and returns affirmatively if the integer is\n",
    "#### greater than 40."
   ]
  },
  {
   "cell_type": "code",
   "execution_count": 63,
   "id": "de232d0a",
   "metadata": {},
   "outputs": [],
   "source": [
    "cursor.execute(\"set global log_bin_trust_function_creators = 1\")\n",
    "cursor.execute(\"create function isSabbatical (age int(10)) returns int begin declare result TINYINT; set result = age > 40; return result; end\")"
   ]
  },
  {
   "cell_type": "markdown",
   "id": "5a3038e0",
   "metadata": {},
   "source": [
    "#### Question 6\n",
    "#### Commit your work on github."
   ]
  },
  {
   "cell_type": "markdown",
   "id": "f93a1e68",
   "metadata": {},
   "source": [
    "#### Question 7\n",
    "#### Find all instructors who can avail sabbatical from the database."
   ]
  },
  {
   "cell_type": "code",
   "execution_count": 64,
   "id": "81f52dc4",
   "metadata": {},
   "outputs": [
    {
     "name": "stdout",
     "output_type": "stream",
     "text": [
      "('Mozart',)\n",
      "('Einstein',)\n"
     ]
    }
   ],
   "source": [
    "query = \"select name from instructor where isSabbatical(age)=1\"\n",
    "cursor.execute(query)\n",
    "for x in cursor:\n",
    "    print(x)"
   ]
  },
  {
   "cell_type": "markdown",
   "id": "f9770edc",
   "metadata": {},
   "source": [
    "#### Question 8\n",
    "#### Commit your work on github\n"
   ]
  },
  {
   "cell_type": "markdown",
   "id": "bcfa5876",
   "metadata": {},
   "source": [
    "#### Quesiton 9\n",
    "#### Add columns of monthly salary, exemptions, taxes, gross_salary etc"
   ]
  },
  {
   "cell_type": "code",
   "execution_count": 70,
   "id": "5991c2ff",
   "metadata": {},
   "outputs": [],
   "source": [
    "cursor.execute(\"ALTER table instructor rename salary to monthly_salary\")\n",
    "cursor.execute(\"ALTER table instructor add column exemptions double\")\n",
    "cursor.execute(\"ALTER table instructor add column gross_salary double\")"
   ]
  },
  {
   "cell_type": "code",
   "execution_count": 73,
   "id": "a1b8c6f1",
   "metadata": {},
   "outputs": [
    {
     "name": "stdout",
     "output_type": "stream",
     "text": [
      "('ID', b'int', 'NO', 'PRI', None, '')\n",
      "('name', b'varchar(20)', 'YES', '', None, '')\n",
      "('dept_name', b'varchar(20)', 'YES', '', None, '')\n",
      "('salary', b'int', 'YES', '', None, '')\n",
      "('age', b'int', 'YES', '', None, '')\n",
      "('exemptions', b'double', 'YES', '', None, '')\n",
      "('gross_salary', b'double', 'YES', '', None, '')\n"
     ]
    }
   ],
   "source": [
    "### Cross Check \n",
    "query = \"desc instructor\"\n",
    "cursor.execute(query)\n",
    "for x in cursor:\n",
    "    print(x)"
   ]
  },
  {
   "cell_type": "code",
   "execution_count": null,
   "id": "19fa8ce8",
   "metadata": {},
   "outputs": [],
   "source": []
  }
 ],
 "metadata": {
  "kernelspec": {
   "display_name": "Python 3 (ipykernel)",
   "language": "python",
   "name": "python3"
  },
  "language_info": {
   "codemirror_mode": {
    "name": "ipython",
    "version": 3
   },
   "file_extension": ".py",
   "mimetype": "text/x-python",
   "name": "python",
   "nbconvert_exporter": "python",
   "pygments_lexer": "ipython3",
   "version": "3.10.4"
  }
 },
 "nbformat": 4,
 "nbformat_minor": 5
}
