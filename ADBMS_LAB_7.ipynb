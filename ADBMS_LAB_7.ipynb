{
 "cells": [
  {
   "cell_type": "code",
   "execution_count": 17,
   "id": "8a447bb7",
   "metadata": {},
   "outputs": [],
   "source": [
    "## Name : Ashutosh Singh Kushwaha\n",
    "## Admission No : 22MT0084\n",
    "## ADBMS LAB 7"
   ]
  },
  {
   "cell_type": "code",
   "execution_count": 18,
   "id": "93982a8f",
   "metadata": {},
   "outputs": [
    {
     "name": "stdout",
     "output_type": "stream",
     "text": [
      "Time Taken to Establish Connection(sec):  0.016001224517822266\n",
      "<mysql.connector.connection_cext.CMySQLConnection object at 0x000001DB5C5A72B0>\n"
     ]
    }
   ],
   "source": [
    "import mysql.connector as sc\n",
    "import time \n",
    "start = time.time()\n",
    "myconn = sc.connect(\n",
    "    host = \"localhost\",\n",
    "    user = \"root\",\n",
    "    password = \"Kushashu123\",\n",
    "    database = \"adbms\"\n",
    ")\n",
    "end = time.time()\n",
    "print(\"Time Taken to Establish Connection(sec): \",end-start)\n",
    "print(myconn)"
   ]
  },
  {
   "cell_type": "code",
   "execution_count": 19,
   "id": "73063512",
   "metadata": {},
   "outputs": [
    {
     "name": "stdout",
     "output_type": "stream",
     "text": [
      "15\n",
      "(10101, 'CS-101', '1', 'Fall', 2017)\n",
      "(10101, 'CS-315', '1', 'Spring', 2018)\n",
      "(10101, 'CS-347', '1', 'Fall', 2017)\n",
      "(12121, 'FIN-201', '1', 'Spring', 2018)\n",
      "(15151, 'MU-199', '1', 'Spring', 2018)\n",
      "(22222, 'PHY-101', '1', 'Fall', 2017)\n",
      "(32343, 'HIS-351', '1', 'Spring', 2018)\n",
      "(45565, 'CS-101', '1', 'Spring', 2018)\n",
      "(45565, 'CS-319', '1', 'Spring', 2018)\n",
      "(76766, 'BIO-101', '1', 'Summer', 2017)\n",
      "(76766, 'BIO-301', '1', 'Summer', 2018)\n",
      "(83821, 'CS-190', '1', 'Spring', 2017)\n",
      "(83821, 'CS-190', '2', 'Spring', 2017)\n",
      "(83821, 'CS-319', '2', 'Spring', 2018)\n",
      "(98345, 'EE-181', '1', 'Spring', 2017)\n"
     ]
    }
   ],
   "source": [
    "## Testing Connection \n",
    "cursor = myconn.cursor(buffered = True)\n",
    "start = time.time()\n",
    "cursor.execute(\"select * from teaches\")\n",
    "print(cursor.rowcount)\n",
    "for x in cursor:\n",
    "    print(x)"
   ]
  },
  {
   "cell_type": "markdown",
   "id": "ebc8994a",
   "metadata": {},
   "source": [
    "### Question 1 \n",
    "### Create a view of instructors without their salary called faculty\n"
   ]
  },
  {
   "cell_type": "code",
   "execution_count": 21,
   "id": "e7c423bb",
   "metadata": {},
   "outputs": [],
   "source": [
    "query = \"create view faculty as select id , name , dept_name from instructor\"\n",
    "cursor.execute(query)"
   ]
  },
  {
   "cell_type": "code",
   "execution_count": 22,
   "id": "e76fd5ac",
   "metadata": {},
   "outputs": [
    {
     "name": "stdout",
     "output_type": "stream",
     "text": [
      "(10101, 'Srinivasan ', 'Comp. Sci.')\n",
      "(10211, 'Smith', 'Biology')\n",
      "(12121, ' Wu', 'Finance')\n",
      "(15151, 'Mozart', 'Music')\n",
      "(22222, 'Einstein', 'Physics')\n",
      "(32343, 'El Said', 'History')\n",
      "(33456, 'Gold', 'Physics')\n",
      "(45565, 'Katz', 'Comp. Sci.')\n",
      "(58583, 'Califieri', 'History')\n",
      "(76543, 'Singh', 'Finance')\n",
      "(76766, 'Crick', 'Biology')\n",
      "(83821, 'Brandt', 'Comp. Sci.')\n",
      "(98345, 'Kim', 'Elec. Eng.')\n",
      "Time Taken : 0.04002523422241211\n"
     ]
    }
   ],
   "source": [
    "query = \"select * from faculty\"\n",
    "start = time.time()\n",
    "cursor.execute(query)\n",
    "end = time.time()\n",
    "for x in cursor:\n",
    "    print(x)\n",
    "print(\"Time Taken :\",end-start)"
   ]
  },
  {
   "cell_type": "code",
   "execution_count": null,
   "id": "b4944f14",
   "metadata": {},
   "outputs": [],
   "source": []
  }
 ],
 "metadata": {
  "kernelspec": {
   "display_name": "Python 3 (ipykernel)",
   "language": "python",
   "name": "python3"
  },
  "language_info": {
   "codemirror_mode": {
    "name": "ipython",
    "version": 3
   },
   "file_extension": ".py",
   "mimetype": "text/x-python",
   "name": "python",
   "nbconvert_exporter": "python",
   "pygments_lexer": "ipython3",
   "version": "3.10.4"
  }
 },
 "nbformat": 4,
 "nbformat_minor": 5
}
