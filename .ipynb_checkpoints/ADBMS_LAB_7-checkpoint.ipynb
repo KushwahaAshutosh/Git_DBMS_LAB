{
 "cells": [
  {
   "cell_type": "code",
   "execution_count": 17,
   "id": "8a447bb7",
   "metadata": {},
   "outputs": [],
   "source": [
    "## Name : Ashutosh Singh Kushwaha\n",
    "## Admission No : 22MT0084\n",
    "## ADBMS LAB 7"
   ]
  },
  {
   "cell_type": "code",
   "execution_count": 18,
   "id": "93982a8f",
   "metadata": {},
   "outputs": [
    {
     "name": "stdout",
     "output_type": "stream",
     "text": [
      "Time Taken to Establish Connection(sec):  0.016001224517822266\n",
      "<mysql.connector.connection_cext.CMySQLConnection object at 0x000001DB5C5A72B0>\n"
     ]
    }
   ],
   "source": [
    "import mysql.connector as sc\n",
    "import time \n",
    "start = time.time()\n",
    "myconn = sc.connect(\n",
    "    host = \"localhost\",\n",
    "    user = \"root\",\n",
    "    password = \"Kushashu123\",\n",
    "    database = \"adbms\"\n",
    ")\n",
    "end = time.time()\n",
    "print(\"Time Taken to Establish Connection(sec): \",end-start)\n",
    "print(myconn)"
   ]
  },
  {
   "cell_type": "code",
   "execution_count": 19,
   "id": "73063512",
   "metadata": {},
   "outputs": [
    {
     "name": "stdout",
     "output_type": "stream",
     "text": [
      "15\n",
      "(10101, 'CS-101', '1', 'Fall', 2017)\n",
      "(10101, 'CS-315', '1', 'Spring', 2018)\n",
      "(10101, 'CS-347', '1', 'Fall', 2017)\n",
      "(12121, 'FIN-201', '1', 'Spring', 2018)\n",
      "(15151, 'MU-199', '1', 'Spring', 2018)\n",
      "(22222, 'PHY-101', '1', 'Fall', 2017)\n",
      "(32343, 'HIS-351', '1', 'Spring', 2018)\n",
      "(45565, 'CS-101', '1', 'Spring', 2018)\n",
      "(45565, 'CS-319', '1', 'Spring', 2018)\n",
      "(76766, 'BIO-101', '1', 'Summer', 2017)\n",
      "(76766, 'BIO-301', '1', 'Summer', 2018)\n",
      "(83821, 'CS-190', '1', 'Spring', 2017)\n",
      "(83821, 'CS-190', '2', 'Spring', 2017)\n",
      "(83821, 'CS-319', '2', 'Spring', 2018)\n",
      "(98345, 'EE-181', '1', 'Spring', 2017)\n"
     ]
    }
   ],
   "source": [
    "## Testing Connection \n",
    "cursor = myconn.cursor(buffered = True)\n",
    "start = time.time()\n",
    "cursor.execute(\"select * from teaches\")\n",
    "print(cursor.rowcount)\n",
    "for x in cursor:\n",
    "    print(x)"
   ]
  },
  {
   "cell_type": "markdown",
   "id": "ebc8994a",
   "metadata": {},
   "source": [
    "### Question 1 \n",
    "### Create a view of instructors without their salary called faculty\n"
   ]
  },
  {
   "cell_type": "code",
   "execution_count": 21,
   "id": "e7c423bb",
   "metadata": {},
   "outputs": [],
   "source": [
    "query = \"create view faculty as select id , name , dept_name from instructor\"\n",
    "cursor.execute(query)"
   ]
  },
  {
   "cell_type": "code",
   "execution_count": 22,
   "id": "e76fd5ac",
   "metadata": {},
   "outputs": [
    {
     "name": "stdout",
     "output_type": "stream",
     "text": [
      "(10101, 'Srinivasan ', 'Comp. Sci.')\n",
      "(10211, 'Smith', 'Biology')\n",
      "(12121, ' Wu', 'Finance')\n",
      "(15151, 'Mozart', 'Music')\n",
      "(22222, 'Einstein', 'Physics')\n",
      "(32343, 'El Said', 'History')\n",
      "(33456, 'Gold', 'Physics')\n",
      "(45565, 'Katz', 'Comp. Sci.')\n",
      "(58583, 'Califieri', 'History')\n",
      "(76543, 'Singh', 'Finance')\n",
      "(76766, 'Crick', 'Biology')\n",
      "(83821, 'Brandt', 'Comp. Sci.')\n",
      "(98345, 'Kim', 'Elec. Eng.')\n",
      "Time Taken : 0.04002523422241211\n"
     ]
    }
   ],
   "source": [
    "query = \"select * from faculty\"\n",
    "start = time.time()\n",
    "cursor.execute(query)\n",
    "end = time.time()\n",
    "for x in cursor:\n",
    "    print(x)\n",
    "print(\"Time Taken :\",end-start)"
   ]
  },
  {
   "cell_type": "markdown",
   "id": "4e30726e",
   "metadata": {},
   "source": [
    "### Question 2\n",
    "### Create a view of department salary totals"
   ]
  },
  {
   "cell_type": "code",
   "execution_count": 24,
   "id": "0ba1d221",
   "metadata": {},
   "outputs": [],
   "source": [
    "query = \"create view dept_avg as  select dept_name , avg(salary) from instructor group by dept_name\"\n",
    "cursor.execute(query)"
   ]
  },
  {
   "cell_type": "code",
   "execution_count": 25,
   "id": "c5283d04",
   "metadata": {},
   "outputs": [
    {
     "name": "stdout",
     "output_type": "stream",
     "text": [
      "('Comp. Sci.', Decimal('77333.3333'))\n",
      "('Biology', Decimal('69000.0000'))\n",
      "('Finance', Decimal('85000.0000'))\n",
      "('Music', Decimal('40000.0000'))\n",
      "('Physics', Decimal('91000.0000'))\n",
      "('History', Decimal('61000.0000'))\n",
      "('Elec. Eng.', Decimal('80000.0000'))\n",
      "Time Taken : 0.007993459701538086\n"
     ]
    }
   ],
   "source": [
    "query = \"select * from dept_avg\"\n",
    "start = time.time()\n",
    "cursor.execute(query)\n",
    "end = time.time()\n",
    "for x in cursor:\n",
    "    print(x)\n",
    "print(\"Time Taken :\",end-start)"
   ]
  },
  {
   "cell_type": "markdown",
   "id": "f29fea52",
   "metadata": {},
   "source": [
    "### Question 3\n",
    "### Create a role of student"
   ]
  },
  {
   "cell_type": "code",
   "execution_count": 31,
   "id": "08e55ee2",
   "metadata": {},
   "outputs": [
    {
     "name": "stdout",
     "output_type": "stream",
     "text": [
      "('Ashutosh', '%')\n",
      "('TestRole_readOnly', '%')\n",
      "('read_only', '%')\n",
      "('view_only', '%')\n",
      "('dummy1', 'localhost')\n",
      "('dummy4', 'localhost')\n",
      "('kushashu', 'localhost')\n",
      "('mysql.infoschema', 'localhost')\n",
      "('mysql.session', 'localhost')\n",
      "('mysql.sys', 'localhost')\n",
      "('new_user', 'localhost')\n",
      "('root', 'localhost')\n"
     ]
    }
   ],
   "source": [
    "query = \"select user , host from mysql.user\"\n",
    "cursor.execute(query)\n",
    "for x in cursor:\n",
    "    print(x)"
   ]
  },
  {
   "cell_type": "code",
   "execution_count": 33,
   "id": "09ab2b5a",
   "metadata": {},
   "outputs": [],
   "source": [
    "query = \"create role student_role'\"\n",
    "cursor.execute(query)"
   ]
  },
  {
   "cell_type": "markdown",
   "id": "6af1e65b",
   "metadata": {},
   "source": [
    "### Question 4\n",
    "### Give select privileges on the view faculty to the role student."
   ]
  },
  {
   "cell_type": "code",
   "execution_count": 34,
   "id": "91293ed6",
   "metadata": {},
   "outputs": [],
   "source": [
    "query = \"grant select on adbms.faculty to student_role\"\n",
    "cursor.execute(query)"
   ]
  },
  {
   "cell_type": "markdown",
   "id": "beb307cf",
   "metadata": {},
   "source": [
    "### Question 5\n",
    "### Create a new user and assign her the role of student "
   ]
  },
  {
   "cell_type": "code",
   "execution_count": 35,
   "id": "8ecbd074",
   "metadata": {},
   "outputs": [],
   "source": [
    "query = \"create user student\"\n",
    "cursor.execute(query)"
   ]
  },
  {
   "cell_type": "code",
   "execution_count": 37,
   "id": "540d717e",
   "metadata": {},
   "outputs": [
    {
     "name": "stdout",
     "output_type": "stream",
     "text": [
      "('Ashutosh', '%')\n",
      "('TestRole_readOnly', '%')\n",
      "('read_only', '%')\n",
      "('student', '%')\n",
      "('student_role', '%')\n",
      "('view_only', '%')\n",
      "('dummy1', 'localhost')\n",
      "('dummy4', 'localhost')\n",
      "('kushashu', 'localhost')\n",
      "('mysql.infoschema', 'localhost')\n",
      "('mysql.session', 'localhost')\n",
      "('mysql.sys', 'localhost')\n",
      "('new_user', 'localhost')\n",
      "('root', 'localhost')\n"
     ]
    }
   ],
   "source": [
    "query = \"select user , host from mysql.user\"\n",
    "cursor.execute(query)\n",
    "for x in cursor:\n",
    "    print(x)"
   ]
  },
  {
   "cell_type": "code",
   "execution_count": 38,
   "id": "7d11fe7e",
   "metadata": {},
   "outputs": [],
   "source": [
    "query = \"grant 'student_role' to 'student'@'%'\"\n",
    "cursor.execute(query)"
   ]
  },
  {
   "cell_type": "markdown",
   "id": "6da9ccef",
   "metadata": {},
   "source": [
    "### Question 6\n",
    "### Revoke privileges of the new user"
   ]
  },
  {
   "cell_type": "code",
   "execution_count": 39,
   "id": "d0c0c15b",
   "metadata": {},
   "outputs": [],
   "source": [
    "query = \"revoke 'student_role' from 'student'@'%'\"\n",
    "cursor.execute(query)"
   ]
  },
  {
   "cell_type": "markdown",
   "id": "4c715c05",
   "metadata": {},
   "source": [
    "### Question 7\n",
    "### Remove the role of student."
   ]
  },
  {
   "cell_type": "code",
   "execution_count": 40,
   "id": "a38a67b1",
   "metadata": {},
   "outputs": [],
   "source": [
    "query = \"revoke select on adbms.faculty from 'student_role'\"\n",
    "cursor.execute(query)"
   ]
  },
  {
   "cell_type": "markdown",
   "id": "8d48a954",
   "metadata": {},
   "source": [
    "### Question 8\n",
    "### Give select privileges on the view faculty to the new user."
   ]
  },
  {
   "cell_type": "code",
   "execution_count": 41,
   "id": "179c1e62",
   "metadata": {},
   "outputs": [],
   "source": [
    "query = \"grant select on adbms.faculty to 'student'@'%'\"\n",
    "cursor.execute(query)"
   ]
  },
  {
   "cell_type": "code",
   "execution_count": 47,
   "id": "c3b38e68",
   "metadata": {},
   "outputs": [
    {
     "name": "stdout",
     "output_type": "stream",
     "text": [
      "('department_salary_total',)\n",
      "('dept_avg',)\n",
      "('dp',)\n",
      "('faculty',)\n",
      "('instructor',)\n",
      "('teaches',)\n"
     ]
    }
   ],
   "source": [
    "## Currently Existing Table in dbms\n",
    "query = \"show tables\"\n",
    "cursor.execute(query)\n",
    "for x in cursor:\n",
    "    print(x)"
   ]
  },
  {
   "cell_type": "markdown",
   "id": "ac9cb1b3",
   "metadata": {},
   "source": [
    "### Question 9\n",
    "### Create table teaches2 with same columns as teaches but with additional constraint that that semester is one of fall, winter, spring or summer."
   ]
  },
  {
   "cell_type": "code",
   "execution_count": 54,
   "id": "dafca1ef",
   "metadata": {},
   "outputs": [],
   "source": [
    "query = \"create table teaches2\\\n",
    "( ID int ,\\\n",
    "Course_id varchar(20),\\\n",
    "sec_id varchar(20),\\\n",
    "semester varchar(20),\\\n",
    "year int,\\\n",
    "check (semester in ('fall','winter','spring','summer'))\\\n",
    ");\"\n",
    "cursor.execute(query)"
   ]
  },
  {
   "cell_type": "code",
   "execution_count": 56,
   "id": "54f4fce3",
   "metadata": {},
   "outputs": [],
   "source": [
    "query = \"insert into teaches2 select * from teaches \"\n",
    "cursor.execute(query)"
   ]
  },
  {
   "cell_type": "markdown",
   "id": "3af2d14c",
   "metadata": {},
   "source": [
    "### Question 10\n",
    "### Create index ID column of teaches. Compare the difference in time to obtain query results with or without index."
   ]
  },
  {
   "cell_type": "code",
   "execution_count": 57,
   "id": "bf317d40",
   "metadata": {},
   "outputs": [],
   "source": [
    "query = \"create index ind on teaches(id)\"\n",
    "cursor.execute(query)"
   ]
  },
  {
   "cell_type": "code",
   "execution_count": 58,
   "id": "eaf7d416",
   "metadata": {},
   "outputs": [],
   "source": [
    "### Time Comparision Using Index and without index"
   ]
  },
  {
   "cell_type": "code",
   "execution_count": 62,
   "id": "e7b4710d",
   "metadata": {},
   "outputs": [
    {
     "name": "stdout",
     "output_type": "stream",
     "text": [
      "(10101, 'CS-101', '1', 'Fall', 2017)\n",
      "(10101, 'CS-315', '1', 'Spring', 2018)\n",
      "(10101, 'CS-347', '1', 'Fall', 2017)\n",
      "(12121, 'FIN-201', '1', 'Spring', 2018)\n",
      "(15151, 'MU-199', '1', 'Spring', 2018)\n",
      "(22222, 'PHY-101', '1', 'Fall', 2017)\n",
      "(32343, 'HIS-351', '1', 'Spring', 2018)\n",
      "(45565, 'CS-101', '1', 'Spring', 2018)\n",
      "(45565, 'CS-319', '1', 'Spring', 2018)\n",
      "(76766, 'BIO-101', '1', 'Summer', 2017)\n",
      "(76766, 'BIO-301', '1', 'Summer', 2018)\n",
      "(83821, 'CS-190', '1', 'Spring', 2017)\n",
      "(83821, 'CS-190', '2', 'Spring', 2017)\n",
      "(83821, 'CS-319', '2', 'Spring', 2018)\n",
      "(98345, 'EE-181', '1', 'Spring', 2017)\n",
      "Time Taken to traverse table using Index:  0.0\n"
     ]
    }
   ],
   "source": [
    "start = time.time()\n",
    "query = \"select * from teaches use index(ind);\"\n",
    "cursor.execute(query)\n",
    "end = time.time()\n",
    "for x in cursor:\n",
    "    print(x)\n",
    "print(\"Time Taken to traverse table using Index: \",end-start)"
   ]
  },
  {
   "cell_type": "code",
   "execution_count": 63,
   "id": "5f9ae41b",
   "metadata": {},
   "outputs": [
    {
     "name": "stdout",
     "output_type": "stream",
     "text": [
      "(10101, 'CS-101', '1', 'Fall', 2017)\n",
      "(10101, 'CS-315', '1', 'Spring', 2018)\n",
      "(10101, 'CS-347', '1', 'Fall', 2017)\n",
      "(12121, 'FIN-201', '1', 'Spring', 2018)\n",
      "(15151, 'MU-199', '1', 'Spring', 2018)\n",
      "(22222, 'PHY-101', '1', 'Fall', 2017)\n",
      "(32343, 'HIS-351', '1', 'Spring', 2018)\n",
      "(45565, 'CS-101', '1', 'Spring', 2018)\n",
      "(45565, 'CS-319', '1', 'Spring', 2018)\n",
      "(76766, 'BIO-101', '1', 'Summer', 2017)\n",
      "(76766, 'BIO-301', '1', 'Summer', 2018)\n",
      "(83821, 'CS-190', '1', 'Spring', 2017)\n",
      "(83821, 'CS-190', '2', 'Spring', 2017)\n",
      "(83821, 'CS-319', '2', 'Spring', 2018)\n",
      "(98345, 'EE-181', '1', 'Spring', 2017)\n",
      "Time Taken to traverse table without  Index:  0.008013486862182617\n"
     ]
    }
   ],
   "source": [
    "start = time.time()\n",
    "query = \"select * from teaches;\"\n",
    "cursor.execute(query)\n",
    "end = time.time()\n",
    "for x in cursor:\n",
    "    print(x)\n",
    "print(\"Time Taken to traverse table without  Index: \",end-start)"
   ]
  },
  {
   "cell_type": "markdown",
   "id": "f49cb060",
   "metadata": {},
   "source": [
    "### Question 11\n",
    "### Drop the index to free up the space."
   ]
  },
  {
   "cell_type": "code",
   "execution_count": 65,
   "id": "f4a2ca35",
   "metadata": {},
   "outputs": [],
   "source": [
    "query = \"drop index ind on teaches\"\n",
    "cursor.execute(query)"
   ]
  },
  {
   "cell_type": "code",
   "execution_count": null,
   "id": "750f36e8",
   "metadata": {},
   "outputs": [],
   "source": []
  }
 ],
 "metadata": {
  "kernelspec": {
   "display_name": "Python 3 (ipykernel)",
   "language": "python",
   "name": "python3"
  },
  "language_info": {
   "codemirror_mode": {
    "name": "ipython",
    "version": 3
   },
   "file_extension": ".py",
   "mimetype": "text/x-python",
   "name": "python",
   "nbconvert_exporter": "python",
   "pygments_lexer": "ipython3",
   "version": "3.10.4"
  }
 },
 "nbformat": 4,
 "nbformat_minor": 5
}
