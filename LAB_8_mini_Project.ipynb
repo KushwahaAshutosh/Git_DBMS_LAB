{
 "cells": [
  {
   "cell_type": "code",
   "execution_count": 1,
   "id": "59f9fbd5",
   "metadata": {},
   "outputs": [],
   "source": [
    "### Name : Ashutosh Singh Kushwaha\n",
    "### Admission No : 22MT0084\n",
    "### LAb 8 Mini Project"
   ]
  },
  {
   "cell_type": "code",
   "execution_count": 2,
   "id": "6bef947f",
   "metadata": {},
   "outputs": [
    {
     "name": "stdout",
     "output_type": "stream",
     "text": [
      "<mysql.connector.connection_cext.CMySQLConnection object at 0x000001EC712A0E80>\n"
     ]
    }
   ],
   "source": [
    "## Connection from DataBase\n",
    "import mysql.connector as sc\n",
    "myconn = sc.connect(\n",
    "    host = \"localhost\",\n",
    "    user = \"root\",\n",
    "    password = \"Kushashu123\",\n",
    "    database = \"adbms\"\n",
    ")\n",
    "print(myconn)\n",
    "cursor = myconn.cursor(buffered = True)"
   ]
  },
  {
   "cell_type": "code",
   "execution_count": 5,
   "id": "12a75061",
   "metadata": {},
   "outputs": [
    {
     "name": "stdout",
     "output_type": "stream",
     "text": [
      "8\n",
      "('department_salary_total',)\n",
      "('dept_avg',)\n",
      "('dp',)\n",
      "('faculty',)\n",
      "('instructor',)\n",
      "('teaches',)\n",
      "('teaches2',)\n",
      "('user_detail',)\n"
     ]
    }
   ],
   "source": [
    "### \n",
    "query = \"show tables\"\n",
    "cursor.execute(query)\n",
    "print(cursor.rowcount)\n",
    "for x in cursor:\n",
    "    print(x)"
   ]
  },
  {
   "cell_type": "code",
   "execution_count": 6,
   "id": "a68eb644",
   "metadata": {},
   "outputs": [
    {
     "name": "stdout",
     "output_type": "stream",
     "text": [
      "0\n"
     ]
    }
   ],
   "source": [
    "### Create view of user_detail table\n",
    "query = \"select * from user_detail\"\n",
    "cursor.execute(query)\n",
    "print(cursor.rowcount)\n",
    "for x in cursor:\n",
    "    print(x)"
   ]
  },
  {
   "cell_type": "markdown",
   "id": "27570339",
   "metadata": {},
   "source": [
    "#### Create a python program/application which asks users to fill up a form (say name, address, contact number etc) and inserts those values into a corresponding table in a database. Use git to manage thecode. Further allow each users to edit their entry and view only name & contact number of other applicants."
   ]
  },
  {
   "cell_type": "code",
   "execution_count": 10,
   "id": "fa2170bb",
   "metadata": {},
   "outputs": [
    {
     "name": "stdout",
     "output_type": "stream",
     "text": [
      "Choose any of the Following option \n",
      " 1.Insert \n",
      " 2.Edit \n",
      " 3.View\n",
      "2\n",
      "you opted for 2\n"
     ]
    }
   ],
   "source": [
    "### option portal \n",
    "print(\"Choose any of the Following option \\n 1.Insert \\n 2.Edit \\n 3.View\")\n",
    "opted = input()\n",
    "print(f\"you opted for {opted}\")\n",
    "function(opted)"
   ]
  },
  {
   "cell_type": "code",
   "execution_count": null,
   "id": "7d9e6971",
   "metadata": {},
   "outputs": [],
   "source": [
    "def insertion():\n",
    "    name = input(\"Please Enter Your Name\")\n",
    "    address = input(\"Please Enter Your Address\")\n",
    "    contact = input(\"Please Enter Your Contact No (length <= 9):\")\n",
    "    if(!name.isalpha() or !contact.isnumeric()):\n",
    "        print(\"Invalid input Type\")\n",
    "    else:\n",
    "        query = \"insert into user_detail(name ,address ,contact) values(%s,%s,%s);\"\n",
    "        cursor.execute(query,(name ,address,contact))\n",
    "        print(\"Insertion SuccessFul\")"
   ]
  },
  {
   "cell_type": "code",
   "execution_count": 11,
   "id": "40b11b75",
   "metadata": {},
   "outputs": [],
   "source": [
    "def edit():\n",
    "    pass"
   ]
  },
  {
   "cell_type": "code",
   "execution_count": null,
   "id": "17a7ccfb",
   "metadata": {},
   "outputs": [],
   "source": [
    "def open_view():\n",
    "    "
   ]
  },
  {
   "cell_type": "code",
   "execution_count": null,
   "id": "e1f4669c",
   "metadata": {},
   "outputs": [],
   "source": [
    "def function(opt):\n",
    "    if opt==1:\n",
    "        insertion()\n",
    "    elif opt==2:\n",
    "        edit()\n",
    "    elif opt==3:\n",
    "        open_view()\n",
    "    else:\n",
    "        print(\"You have selected INVALID Choice\")\n",
    "        \n",
    "    "
   ]
  }
 ],
 "metadata": {
  "kernelspec": {
   "display_name": "Python 3 (ipykernel)",
   "language": "python",
   "name": "python3"
  },
  "language_info": {
   "codemirror_mode": {
    "name": "ipython",
    "version": 3
   },
   "file_extension": ".py",
   "mimetype": "text/x-python",
   "name": "python",
   "nbconvert_exporter": "python",
   "pygments_lexer": "ipython3",
   "version": "3.10.4"
  }
 },
 "nbformat": 4,
 "nbformat_minor": 5
}
